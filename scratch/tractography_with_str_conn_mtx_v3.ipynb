{
 "cells": [
  {
   "cell_type": "markdown",
   "metadata": {},
   "source": [
    "### This notebook generates structural connectivity matrices from DWI data.  \n",
    "\n",
    "Note: Different versions of this NB (eg: v2, v3, etc) play around with the seed density values, or looks at alternate subjects, or uses Davide's Intro to dMRI Workshop methods.  \n",
    "\n",
    "This is _v3 \n",
    "\n",
    "#### (seed_density=2)\n",
    "\n",
    "Here we use Davide's Intro to dMRI Workshop methods to generate streamlines."
   ]
  },
  {
   "cell_type": "code",
   "execution_count": null,
   "metadata": {},
   "outputs": [],
   "source": [
    "# importage\n",
    "\n",
    "import warnings\n",
    "warnings.filterwarnings('ignore')\n",
    "from matplotlib import pyplot as plt\n",
    "from matplotlib import cm\n",
    "\n",
    "import os,sys,glob,numpy as np, pandas as pd\n",
    "\n",
    "from skimage import measure\n",
    "\n",
    "import nibabel as nib\n",
    "from nilearn.plotting import plot_surf, plot_surf_stat_map, plot_roi, plot_anat, plot_surf_roi\n",
    "\n",
    "%matplotlib inline\n",
    "from matplotlib import pyplot as plt\n",
    "from mpl_toolkits.mplot3d.art3d import Poly3DCollection\n",
    "\n",
    "from nilearn.image import index_img\n",
    "\n",
    "from dipy.core.gradients import gradient_table\n",
    "from dipy.reconst import shm\n",
    "from dipy.direction import peaks\n",
    "\n",
    "from dipy.tracking import utils\n",
    "from dipy.tracking.local_tracking import LocalTracking\n",
    "from dipy.tracking.streamline import Streamlines\n",
    "from dipy.tracking.stopping_criterion import BinaryStoppingCriterion\n",
    "from dipy.io.dpy import Dpy\n",
    "\n",
    "\n",
    "import seaborn as sns\n",
    "\n",
    "from matplotlib.colors import LinearSegmentedColormap\n",
    "\n",
    "from dipy.tracking.distances import approx_polygon_track"
   ]
  },
  {
   "cell_type": "code",
   "execution_count": null,
   "metadata": {},
   "outputs": [],
   "source": [
    "import nilearn"
   ]
  },
  {
   "cell_type": "code",
   "execution_count": null,
   "metadata": {},
   "outputs": [],
   "source": [
    "%%time\n",
    "# Load the DWI data\n",
    "\n",
    "bvecs_file = '/external/rprshnas01/public_datasets/HCP/HCP_S900/100307/T1w/Diffusion/bvecs'\n",
    "bvecs_dat = np.loadtxt(bvecs_file)\n",
    "\n",
    "bvals_file = '/external/rprshnas01/public_datasets/HCP/HCP_S900/100307/T1w/Diffusion/bvals'\n",
    "bvals_dat = np.loadtxt(bvals_file)\n",
    "\n",
    "\n",
    "# laoding a dwi file is similar to loading in a dconn file ...\n",
    "\n",
    "dwi_file = '/external/rprshnas01/public_datasets/HCP/HCP_S900/100307/T1w/Diffusion/data.nii.gz'\n",
    "dwi_img = nib.load(dwi_file)\n",
    "dwi_dat = dwi_img.get_data()\n",
    "\n",
    "b0_img = index_img(dwi_img,0)\n",
    "\n",
    "# load brain mask file ...\n",
    "\n",
    "nbm_file = '/external/rprshnas01/public_datasets/HCP/HCP_S900/100307/T1w/Diffusion/nodif_brain_mask.nii.gz'\n",
    "nbm_img = nib.load(nbm_file)\n",
    "nbm_dat = nbm_img.get_data()"
   ]
  },
  {
   "cell_type": "code",
   "execution_count": null,
   "metadata": {},
   "outputs": [],
   "source": [
    "gtab = gradient_table(bvals_dat, bvecs_dat)\n",
    "\n",
    "affine = dwi_img.affine"
   ]
  },
  {
   "cell_type": "code",
   "execution_count": null,
   "metadata": {},
   "outputs": [],
   "source": []
  },
  {
   "cell_type": "code",
   "execution_count": 5,
   "metadata": {},
   "outputs": [
    {
     "name": "stdout",
     "output_type": "stream",
     "text": [
      "CPU times: user 2min 46s, sys: 55.1 s, total: 3min 41s\n",
      "Wall time: 3min 43s\n"
     ]
    }
   ],
   "source": [
    "%%time\n",
    "# Take approx. 5 mins to run.\n",
    "\n",
    "from dipy.reconst import dti\n",
    "from dipy.segment.mask import median_otsu\n",
    "from dipy.tracking import utils\n",
    "\n",
    "dwi_data = dwi_img.get_fdata()\n",
    "\n",
    "# Specify the volume index to the b0 volumes\n",
    "dwi_data, dwi_mask = median_otsu(dwi_data, vol_idx=[0], numpass=1)\n",
    "\n",
    "dti_model = dti.TensorModel(gtab)\n",
    "\n",
    "# This step may take a while\n",
    "dti_fit = dti_model.fit(dwi_data, mask=dwi_mask)\n",
    "\n",
    "# Create the seeding mask\n",
    "fa_img = dti_fit.fa\n",
    "seed_mask = fa_img.copy()\n",
    "seed_mask[seed_mask >= 0.2] = 1\n",
    "seed_mask[seed_mask < 0.2] = 0\n",
    "\n",
    "# Create the seeds\n",
    "seeds = utils.seeds_from_mask(seed_mask, affine=affine, density=2)"
   ]
  },
  {
   "cell_type": "code",
   "execution_count": 6,
   "metadata": {},
   "outputs": [
    {
     "data": {
      "text/plain": [
       "array([0., 1.])"
      ]
     },
     "execution_count": 6,
     "metadata": {},
     "output_type": "execute_result"
    }
   ],
   "source": [
    "np.unique(seed_mask)"
   ]
  },
  {
   "cell_type": "code",
   "execution_count": null,
   "metadata": {},
   "outputs": [],
   "source": []
  },
  {
   "cell_type": "code",
   "execution_count": null,
   "metadata": {},
   "outputs": [],
   "source": []
  },
  {
   "cell_type": "code",
   "execution_count": 7,
   "metadata": {},
   "outputs": [],
   "source": [
    "from scipy import ndimage  # To rotate image for visualization purposes\n",
    "import matplotlib.pyplot as plt\n",
    "from dipy.reconst.shm import CsaOdfModel\n",
    "from dipy.tracking.stopping_criterion import ThresholdStoppingCriterion"
   ]
  },
  {
   "cell_type": "code",
   "execution_count": 8,
   "metadata": {},
   "outputs": [],
   "source": [
    "sh_order = 2"
   ]
  },
  {
   "cell_type": "code",
   "execution_count": 9,
   "metadata": {},
   "outputs": [
    {
     "name": "stdout",
     "output_type": "stream",
     "text": [
      "CPU times: user 2.71 ms, sys: 233 µs, total: 2.95 ms\n",
      "Wall time: 2.05 ms\n"
     ]
    }
   ],
   "source": [
    "%%time\n",
    "csa_model = CsaOdfModel(gtab, sh_order=sh_order)"
   ]
  },
  {
   "cell_type": "code",
   "execution_count": null,
   "metadata": {},
   "outputs": [],
   "source": [
    "%%time\n",
    "gfa = csa_model.fit(dwi_data, mask=seed_mask).gfa"
   ]
  },
  {
   "cell_type": "code",
   "execution_count": null,
   "metadata": {},
   "outputs": [],
   "source": [
    "%%time\n",
    "stopping_criterion = ThresholdStoppingCriterion(gfa, .25)"
   ]
  },
  {
   "cell_type": "code",
   "execution_count": null,
   "metadata": {},
   "outputs": [],
   "source": [
    "from dipy.reconst.csdeconv import ConstrainedSphericalDeconvModel\n",
    "from dipy.reconst.csdeconv import auto_response_ssst"
   ]
  },
  {
   "cell_type": "code",
   "execution_count": null,
   "metadata": {},
   "outputs": [],
   "source": [
    "%%time\n",
    "\n",
    "# Takes approx. 2 mins to run ...\n",
    "\n",
    "response, ratio = auto_response_ssst(gtab, dwi_data, roi_radii=10, fa_thr=0.7)\n",
    "csd_model = ConstrainedSphericalDeconvModel(gtab, response, sh_order=sh_order)\n",
    "csd_fit = csd_model.fit(dwi_data, mask=seed_mask)"
   ]
  },
  {
   "cell_type": "code",
   "execution_count": null,
   "metadata": {},
   "outputs": [],
   "source": [
    "from dipy.direction import ProbabilisticDirectionGetter\n",
    "from dipy.data import small_sphere\n",
    "from dipy.io.stateful_tractogram import Space, StatefulTractogram\n",
    "from dipy.io.streamline import save_tractogram\n",
    "from dipy.tracking.local_tracking import LocalTracking\n",
    "from dipy.tracking.streamline import Streamlines"
   ]
  },
  {
   "cell_type": "code",
   "execution_count": null,
   "metadata": {},
   "outputs": [],
   "source": [
    "%%time\n",
    "\n",
    "# Takes approx. 9-13 minutes to run at seed_density = 1. --> ~700,000 streamlines\n",
    "# Takes approx. 90 minutes to run at seed_density = 2. --> ~5,300,000 streamlines\n",
    "\n",
    "fod = csd_fit.odf(small_sphere)\n",
    "pmf = fod.clip(min=0)\n",
    "prob_dg = ProbabilisticDirectionGetter.from_pmf(pmf, max_angle=30.,\n",
    "                                                sphere=small_sphere)\n",
    "streamline_generator = LocalTracking(prob_dg, stopping_criterion, seeds,\n",
    "                                     affine, step_size=.5)\n",
    "streamlines = Streamlines(streamline_generator)\n",
    "sft = StatefulTractogram(streamlines, dwi_img, Space.RASMM)"
   ]
  },
  {
   "cell_type": "code",
   "execution_count": null,
   "metadata": {},
   "outputs": [],
   "source": [
    "len(streamlines)"
   ]
  },
  {
   "cell_type": "code",
   "execution_count": null,
   "metadata": {},
   "outputs": [],
   "source": [
    "%%time\n",
    "# This step take 3 minutes to run. \n",
    "streamlines_ds = np.array([approx_polygon_track(s) for s in streamlines])"
   ]
  },
  {
   "cell_type": "markdown",
   "metadata": {},
   "source": [
    "#### Str Conn Mtx"
   ]
  },
  {
   "cell_type": "code",
   "execution_count": null,
   "metadata": {},
   "outputs": [],
   "source": [
    "# Load the label file and brain mask file\n",
    "\n",
    "label_file_path = '/external/rprshnas01/netdata_kcni/jglab/MemberSpaces/Data/Shrey/PyTepFit/Data/fs_directory/100307/mri/100307_Schaefer2018_400Parcels_7Networks_rewritten.nii.gz'\n",
    "mask_file_path = '/external/rprshnas01/public_datasets/HCP/HCP_S900/100307/T1w/Diffusion/nodif_brain_mask.nii.gz'\n",
    "\n",
    "label_img = nib.load(label_file_path)\n",
    "mask_img = nib.load(mask_file_path)"
   ]
  },
  {
   "cell_type": "code",
   "execution_count": null,
   "metadata": {},
   "outputs": [],
   "source": [
    "%%time\n",
    "resampled_label_dat = nilearn.image.resample_img(label_file_path, target_affine=nbm_img.affine, target_shape=mask_img.shape,interpolation='nearest')"
   ]
  },
  {
   "cell_type": "code",
   "execution_count": null,
   "metadata": {},
   "outputs": [],
   "source": [
    "resampled_label_data = resampled_label_dat.get_data()"
   ]
  },
  {
   "cell_type": "code",
   "execution_count": null,
   "metadata": {},
   "outputs": [],
   "source": [
    "%%time\n",
    "conn_mat, grouping = utils.connectivity_matrix(streamlines_ds,\n",
    "                                               b0_img.affine,\n",
    "                                               resampled_label_data,\n",
    "                                               return_mapping=True,\n",
    "                                               mapping_as_streamlines=True)"
   ]
  },
  {
   "cell_type": "code",
   "execution_count": null,
   "metadata": {},
   "outputs": [],
   "source": [
    "conn_mat = conn_mat[1:, 1:]"
   ]
  },
  {
   "cell_type": "code",
   "execution_count": null,
   "metadata": {
    "scrolled": false
   },
   "outputs": [],
   "source": [
    "fig, ax = plt.subplots(figsize=(15,15))\n",
    "\n",
    "sns.heatmap(np.log1p(conn_mat), ax=ax, vmax=1)\n",
    "ax.set_aspect('equal')"
   ]
  },
  {
   "cell_type": "code",
   "execution_count": null,
   "metadata": {},
   "outputs": [],
   "source": []
  },
  {
   "cell_type": "code",
   "execution_count": null,
   "metadata": {},
   "outputs": [],
   "source": [
    "from nilearn import plotting as nplot\n",
    "\n",
    "\n",
    "nplot.plot_roi(resampled_label_dat, dwi_img.slicer[:, :, :, 0])\n"
   ]
  },
  {
   "cell_type": "code",
   "execution_count": null,
   "metadata": {},
   "outputs": [],
   "source": []
  }
 ],
 "metadata": {
  "kernelspec": {
   "display_name": "simnibs_env",
   "language": "python",
   "name": "simnibs_env"
  },
  "language_info": {
   "codemirror_mode": {
    "name": "ipython",
    "version": 3
   },
   "file_extension": ".py",
   "mimetype": "text/x-python",
   "name": "python",
   "nbconvert_exporter": "python",
   "pygments_lexer": "ipython3",
   "version": "3.7.3"
  }
 },
 "nbformat": 4,
 "nbformat_minor": 2
}
