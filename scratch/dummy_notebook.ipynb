{
 "cells": [
  {
   "cell_type": "code",
   "execution_count": 1,
   "metadata": {},
   "outputs": [],
   "source": [
    "import warnings\n",
    "warnings.filterwarnings('ignore')\n",
    "from matplotlib import pyplot as plt\n",
    "from matplotlib import cm\n",
    "\n",
    "import os,sys,glob,numpy as np, pandas as pd\n",
    "\n",
    "from skimage import measure\n",
    "\n",
    "import nibabel as nib\n",
    "from nilearn.plotting import plot_surf, plot_surf_stat_map, plot_roi, plot_anat, plot_surf_roi\n",
    "\n",
    "%matplotlib inline\n",
    "from matplotlib import pyplot as plt\n",
    "from mpl_toolkits.mplot3d.art3d import Poly3DCollection\n",
    "\n",
    "from nilearn.image import index_img\n",
    "\n",
    "from dipy.core.gradients import gradient_table\n",
    "from dipy.reconst import shm\n",
    "from dipy.direction import peaks\n",
    "\n",
    "from dipy.tracking import utils\n",
    "from dipy.tracking.local_tracking import LocalTracking\n",
    "from dipy.tracking.streamline import Streamlines\n",
    "from dipy.tracking.stopping_criterion import BinaryStoppingCriterion\n",
    "from dipy.io.dpy import Dpy\n",
    "\n",
    "\n",
    "import seaborn as sns\n",
    "\n",
    "from matplotlib.colors import LinearSegmentedColormap\n",
    "\n",
    "from dipy.tracking.distances import approx_polygon_track"
   ]
  },
  {
   "cell_type": "code",
   "execution_count": 2,
   "metadata": {},
   "outputs": [],
   "source": [
    "def convert_simnibs_fsavg_to_cifti_32K(in_file,run_it=False):#,base_dir=False):\n",
    "    \n",
    "    hcp_pipelines_dir = '/nethome/kcni/hharita/Code/HCPpipelines'\n",
    "    surf_dir = hcp_pipelines_dir + '/global/templates/standard_mesh_atlases/resample_fsaverage'\n",
    "    #in_dat = nib.freesurfer.read_morph_data(in_file)\n",
    "   \n",
    "    #in_gii = base_dir + '/' + in_file + '_164k.gii'\n",
    "    in_gii = in_file + '_164k.gii'\n",
    "    cmd1 = 'mri_convert %s %s' %(in_file,in_gii)\n",
    "    \n",
    "    out_gii = in_gii.replace('_164k.gii', '_cifti32k.gii')\n",
    "    #cmdstr = 'wb_command -metric-resample test_gii.gii fsaverage_std_sphere.L.164k_fsavg_L.surf.gii fs_LR-deformed_to-fsaverage.L.sphere.32k_fs_LR.surf.gii ADAP_BARY_AREA test_gii_32K.gii -area-metrics fsaverage.L.midthickness_va_avg.164k_fsavg_L.shape.gii fs_LR.L.midthickness_va_avg.32k_fs_LR.shape.gii\n",
    "\n",
    "    f1 = in_gii\n",
    "       \n",
    "    #cmdstr = 'wb_command -metric-resample test_gii.gii\n",
    "    f2 = surf_dir + '/fsaverage_std_sphere.L.164k_fsavg_L.surf.gii'\n",
    "    f3 = surf_dir + '/fs_LR-deformed_to-fsaverage.L.sphere.32k_fs_LR.surf.gii'\n",
    "    f4 = out_gii\n",
    "    f5 = surf_dir + '/fsaverage.L.midthickness_va_avg.164k_fsavg_L.shape.gii'\n",
    "    f6 = surf_dir + '/fs_LR.L.midthickness_va_avg.32k_fs_LR.shape.gii'\n",
    "   \n",
    "    cmd2str = 'wb_command -metric-resample %s %s %s ADAP_BARY_AREA %s -area-metrics %s %s'\n",
    "\n",
    "   \n",
    "    cmd2 = cmd2str %(f1,f2,f3,f4,f5,f6)\n",
    "   \n",
    "    if run_it:\n",
    "        print('\\n\\nconverting input file to .gii\\n')\n",
    "        print(cmd1)\n",
    "        \n",
    "        #! $cmd1\n",
    "        #os.system(cmd1)\n",
    "        \n",
    "        print('\\n\\nconverting .gii file to cifti 32k space\\n')\n",
    "        print(cmd2)\n",
    "        #! $cmd2\n",
    "        #os.system(cmd1)\n",
    "        #os.system(cmd2)\n",
    "       \n",
    "       \n",
    "    return cmd1,cmd2,out_gii\n",
    "\n"
   ]
  },
  {
   "cell_type": "markdown",
   "metadata": {},
   "source": [
    "### Load in surface files ..."
   ]
  },
  {
   "cell_type": "code",
   "execution_count": 3,
   "metadata": {},
   "outputs": [],
   "source": [
    "# Directory\n",
    "\n",
    "data_direc = '/nethome/kcni/hharita/Data/HCP_WB_Tutorial_TEST/HCP_WB_Tutorial_1.0'\n",
    "\n",
    "# Left Hemisphere MID-THICKNESS Surface file\n",
    "mtleft_file = data_direc + '/Q1-Q6_R440.L.midthickness.32k_fs_LR.surf.gii'\n",
    "\n",
    "# Left Hemisphere INFLATED Surface file\n",
    "infleft_file = data_direc + '/Q1-Q6_R440.L.inflated.32k_fs_LR.surf.gii'\n",
    "\n",
    "# Left Hemisphere VERY INFLATED Surface file \n",
    "\n",
    "vinfleft_file = data_direc + '/Q1-Q6_R440.L.very_inflated.32k_fs_LR.surf.gii'\n",
    "\n",
    "# Left Hemisphere PIAL Surface file\n",
    "pialleft_file = data_direc + '/Q1-Q6_R440.L.pial.32k_fs_LR.surf.gii'\n",
    "\n",
    "# Left Hemisphere FLAT Surface file\n",
    "\n",
    "flatleft_file = data_direc + '/Q1-Q6_R440.L.flat.32k_fs_LR.surf.gii'\n",
    "\n",
    "# curved surface \n",
    "\n",
    "curv_file = data_direc + '/Q1-Q6_R440.All.curvature.32k_fs_LR.dscalar.nii'\n",
    "\n",
    "# sulcus file\n",
    "\n",
    "sulc_file = data_direc + '/Q1-Q6_R440.All.sulc.32k_fs_LR.dscalar.nii'\n",
    "\n",
    "# Left hemisphere SPHERICAL surface file\n",
    "\n",
    "sphere_file = data_direc + '/Q1-Q6_R440.L.sphere.32k_fs_LR.surf.gii'\n",
    "\n",
    "# for the cifti-2 converted label file\n",
    "\n",
    "anotherdir = '/external/rprshnas01/kcni/hharita/Data/HCP_WB_Tutorial_TEST/HCP_WB_Tutorial_1.0'\n",
    "label_file = anotherdir + '/parcellations_VGD11b.32k_fs_LR_c2.dlabel.nii'\n",
    "\n",
    "# Left Hemisphere PIAL Surface file\n",
    "pialright_file = data_direc + '/Q1-Q6_R440.R.pial.32k_fs_LR.surf.gii'"
   ]
  },
  {
   "cell_type": "code",
   "execution_count": 4,
   "metadata": {},
   "outputs": [],
   "source": [
    "# read in the loaded surfaces ...\n",
    "\n",
    "# Mid-thickness surface\n",
    "img_mt = nib.load(mtleft_file) \n",
    "mt_vtx = img_mt.darrays[0].data\n",
    "mt_tri = img_mt.darrays[1].data\n",
    "\n",
    "# Pial surface\n",
    "img_pial = nib.load(pialleft_file)\n",
    "pial_vtx = img_pial.darrays[0].data\n",
    "pial_tri = img_pial.darrays[1].data\n",
    "\n",
    "# Inflated surface\n",
    "img_inf = nib.load(infleft_file)\n",
    "inf_vtx = img_inf.darrays[0].data\n",
    "inf_tri = img_inf.darrays[1].data\n",
    "\n",
    "# Inflated surface\n",
    "img_vinf = nib.load(vinfleft_file)\n",
    "vinf_vtx = img_vinf.darrays[0].data\n",
    "vinf_tri = img_vinf.darrays[1].data\n",
    "\n",
    "# Flat surface \n",
    "\n",
    "img_flat = nib.load(flatleft_file)\n",
    "flat_vtx = img_flat.darrays[0].data\n",
    "flat_tri = img_flat.darrays[1].data\n",
    "\n",
    "# Spherical surface\n",
    "\n",
    "img_sphere = nib.load(sphere_file)\n",
    "sphere_vtx = img_sphere.darrays[0].data\n",
    "sphere_tri = img_sphere.darrays[1].data"
   ]
  },
  {
   "cell_type": "code",
   "execution_count": 5,
   "metadata": {},
   "outputs": [],
   "source": [
    "# mid-thickness\n",
    "df_mt_vtx = pd.DataFrame(mt_vtx, columns=['x','y','z'])\n",
    "\n",
    "# pial\n",
    "df_pial_vtx = pd.DataFrame(pial_vtx, columns=['x','y','z'])\n",
    "\n",
    "# inflated \n",
    "df_inf_vtx = pd.DataFrame(inf_vtx, columns=['x','y','z'])\n",
    "\n",
    "# very inflated\n",
    "df_vinf_vtx = pd.DataFrame(vinf_vtx, columns=['x','y','z'])\n",
    "\n",
    "# flat \n",
    "df_flat_vtx = pd.DataFrame(flat_vtx, columns=['x','y','z'])\n",
    "\n",
    "# spherical\n",
    "df_sphere_vtx = pd.DataFrame(sphere_vtx, columns=['x','y','z'])"
   ]
  },
  {
   "cell_type": "code",
   "execution_count": 6,
   "metadata": {},
   "outputs": [],
   "source": [
    "# Pial surface --> RIGHT hemisphere ...\n",
    "img_pial_rh = nib.load(pialright_file)\n",
    "pial_vtx_rh = img_pial_rh.darrays[0].data\n",
    "pial_tri_rh = img_pial_rh.darrays[1].data\n",
    "\n",
    "xr,yr,zr = pial_vtx_rh.T\n",
    "x,y,z = pial_vtx.T"
   ]
  },
  {
   "cell_type": "markdown",
   "metadata": {},
   "source": [
    "### Load tractography data"
   ]
  },
  {
   "cell_type": "code",
   "execution_count": 7,
   "metadata": {},
   "outputs": [
    {
     "name": "stdout",
     "output_type": "stream",
     "text": [
      "CPU times: user 23.9 s, sys: 7.39 s, total: 31.2 s\n",
      "Wall time: 32.6 s\n"
     ]
    }
   ],
   "source": [
    "%%time\n",
    "bvecs_file = '/external/rprshnas01/public_datasets/HCP/HCP_S900/100307/T1w/Diffusion/bvecs'\n",
    "bvecs_dat = np.loadtxt(bvecs_file)\n",
    "\n",
    "bvals_file = '/external/rprshnas01/public_datasets/HCP/HCP_S900/100307/T1w/Diffusion/bvals'\n",
    "bvals_dat = np.loadtxt(bvals_file)\n",
    "\n",
    "\n",
    "# laoding a dwi file is similar to loading in a dconn file ...\n",
    "\n",
    "dwi_file = '/external/rprshnas01/public_datasets/HCP/HCP_S900/100307/T1w/Diffusion/data.nii.gz'\n",
    "dwi_img = nib.load(dwi_file)\n",
    "dwi_dat = dwi_img.get_data()\n",
    "\n",
    "b0_img = index_img(dwi_img,0)\n",
    "\n",
    "# load brain mask file ...\n",
    "\n",
    "nbm_file = '/external/rprshnas01/public_datasets/HCP/HCP_S900/100307/T1w/Diffusion/nodif_brain_mask.nii.gz'\n",
    "nbm_img = nib.load(nbm_file)\n",
    "nbm_dat = nbm_img.get_data()\n",
    "\n",
    "# subject specific T1 weighted white matter surface file for LEFT hemisphere ... low resolution (32k)\n",
    "# again ... this is similar to loading in a dconn file, only the file names have changed ...\n",
    "lhw32k_file = '/external/rprshnas01/public_datasets/HCP/HCP_S900/100307/T1w/fsaverage_LR32k/100307.L.white_MSMAll.32k_fs_LR.surf.gii'\n",
    "lhw32k_img = nib.load(lhw32k_file)\n",
    "lhw32k_vtx = lhw32k_img.darrays[0].data[:]\n",
    "lhw32k_tri = lhw32k_img.darrays[1].data[:]\n",
    "\n",
    "df_lhw32k_vtx = pd.DataFrame(lhw32k_vtx,columns=['x', 'y', 'z'])\n",
    "\n",
    "# subject specific T1 weighted white matter surface file for RIGHT hemisphere ... low resolution (32k)\n",
    "rhw32k_file = '/external/rprshnas01/public_datasets/HCP/HCP_S900/100307/T1w/fsaverage_LR32k/100307.R.white_MSMAll.32k_fs_LR.surf.gii'\n",
    "rhw32k_img = nib.load(rhw32k_file)\n",
    "rhw32k_vtx = rhw32k_img.darrays[0].data[:]\n",
    "rhw32k_tri = rhw32k_img.darrays[1].data[:]\n",
    "\n",
    "df_rhw32k_vtx = pd.DataFrame(rhw32k_vtx,columns=['x', 'y', 'z'])\n",
    "\n",
    "# subject specific T1 weighted white matter surface file for LEFT hemisphere ... high resolution (130k)\n",
    "\n",
    "lhw130k_file = '/external/rprshnas01/public_datasets/HCP/HCP_S900/100307/T1w/Native/100307.L.white.native.surf.gii'\n",
    "lhw130k_img = nib.load(lhw130k_file)\n",
    "lhw130k_vtx = lhw130k_img.darrays[0].data[:]\n",
    "lhw130k_tri = lhw130k_img.darrays[1].data[:]\n",
    "\n",
    "df_lhw130k_vtx = pd.DataFrame(lhw130k_vtx,columns=['x', 'y', 'z'])\n",
    "\n",
    "# subject specific T1 weighted white matter surface file for RIGHT hemisphere ... high resolution (130k)\n",
    "\n",
    "rhw130k_file = '/external/rprshnas01/public_datasets/HCP/HCP_S900/100307/T1w/Native/100307.R.white.native.surf.gii'\n",
    "rhw130k_img = nib.load(rhw130k_file)\n",
    "rhw130k_vtx = rhw130k_img.darrays[0].data[:]\n",
    "rhw130k_tri = rhw130k_img.darrays[1].data[:]\n",
    "\n",
    "df_rhw130k_vtx = pd.DataFrame(rhw130k_vtx,columns=['x', 'y', 'z'])"
   ]
  },
  {
   "cell_type": "code",
   "execution_count": 41,
   "metadata": {},
   "outputs": [
    {
     "data": {
      "text/plain": [
       "(145, 174, 145)"
      ]
     },
     "execution_count": 41,
     "metadata": {},
     "output_type": "execute_result"
    }
   ],
   "source": [
    "nbm_dat.shape"
   ]
  },
  {
   "cell_type": "code",
   "execution_count": 42,
   "metadata": {},
   "outputs": [
    {
     "data": {
      "text/plain": [
       "array([0., 1.], dtype=float32)"
      ]
     },
     "execution_count": 42,
     "metadata": {},
     "output_type": "execute_result"
    }
   ],
   "source": [
    "np.unique(nbm_dat)"
   ]
  },
  {
   "cell_type": "code",
   "execution_count": null,
   "metadata": {},
   "outputs": [],
   "source": []
  },
  {
   "cell_type": "code",
   "execution_count": null,
   "metadata": {},
   "outputs": [],
   "source": []
  },
  {
   "cell_type": "code",
   "execution_count": 8,
   "metadata": {},
   "outputs": [
    {
     "name": "stderr",
     "output_type": "stream",
     "text": [
      "pixdim[1,2,3] should be non-zero; setting 0 dims to 1\n",
      "pixdim[1,2,3] should be non-zero; setting 0 dims to 1\n"
     ]
    }
   ],
   "source": [
    "# Load the dconn file like previous NBs\n",
    "dconn_file = '/nethome/kcni/hharita/Data/HCP_1200/HCP_S1200_1003_rfMRI_MSMAll_groupPCA_d4500ROW_zcorr.dconn.nii'\n",
    "dconn_img = nib.load(dconn_file)\n",
    "dconn_dat = dconn_img.get_data()\n",
    "\n",
    "# Load lable file\n",
    "lab_file =  '/external/rprshnas01/netdata_kcni/jglab/MemberSpaces/Data/Balsa/null_WG33/Gordon333_FreesurferSubcortical.32k_fs_LR.dlabel.nii'\n",
    "lab_img = nib.load(lab_file)\n",
    "lab_dat = np.squeeze(lab_img.get_data())\n",
    "\n",
    "# Load Sulcus file\n",
    "sulc_file = '/external/rprshnas01/netdata_kcni/jglab/MemberSpaces/Data/Balsa/null_WG33/S900.sulc_MSMAll.32k_fs_LR.dscalar.nii'\n",
    "sulc_img = nib.load(sulc_file)\n",
    "sulc_ax1 = sulc_img.header.get_axis(1)\n",
    "sulc_dat = np.squeeze(sulc_img.get_data())\n",
    "\n",
    "# We have already loaded additional surface files in the above cells ..."
   ]
  },
  {
   "cell_type": "markdown",
   "metadata": {},
   "source": [
    "#### The label says ```sch1000``` but it actually ```sch400```!"
   ]
  },
  {
   "cell_type": "code",
   "execution_count": 9,
   "metadata": {},
   "outputs": [
    {
     "name": "stderr",
     "output_type": "stream",
     "text": [
      "pixdim[1,2,3] should be non-zero; setting 0 dims to 1\n"
     ]
    }
   ],
   "source": [
    "cbig_dir = '/external/rprshnas01/netdata_kcni/jglab/Code/libraries_of_others/github/CBIG'\n",
    "\n",
    "# Load in 400 parcellation variant of Schaefer parcellations label file ...\n",
    "sch1000lab_file = cbig_dir + '/stable_projects/brain_parcellation/Schaefer2018_LocalGlobal/Parcellations/HCP/fslr32k/cifti/Schaefer2018_400Parcels_7Networks_order.dlabel.nii'\n",
    "sch1000lab_img = nib.load(sch1000lab_file)\n",
    "sch1000lab_dat = np.squeeze(sch1000lab_img.get_data())\n",
    "sch1000_parc = sch1000lab_dat\n",
    "sch1000lab_dat_lh = sch1000lab_dat[0:lhw32k_vtx.shape[0]].astype(int)\n",
    "sch1000lab_dat_rh = sch1000lab_dat[lhw32k_vtx.shape[0]:].astype(int)\n",
    "sch1000lab_ax0 = sch1000lab_img.header.get_axis(0)\n",
    "sch1000lab_ax1 = sch1000lab_img.header.get_axis(1)\n"
   ]
  },
  {
   "cell_type": "code",
   "execution_count": 43,
   "metadata": {},
   "outputs": [
    {
     "data": {
      "text/plain": [
       "array([196.,  67.,  47., ..., 339., 339., 339.], dtype=float32)"
      ]
     },
     "execution_count": 43,
     "metadata": {},
     "output_type": "execute_result"
    }
   ],
   "source": [
    "sch1000lab_dat"
   ]
  },
  {
   "cell_type": "code",
   "execution_count": 39,
   "metadata": {},
   "outputs": [
    {
     "data": {
      "text/plain": [
       "(64984,)"
      ]
     },
     "execution_count": 39,
     "metadata": {},
     "output_type": "execute_result"
    }
   ],
   "source": [
    "sch1000lab_dat.shape"
   ]
  },
  {
   "cell_type": "code",
   "execution_count": 40,
   "metadata": {},
   "outputs": [
    {
     "data": {
      "text/plain": [
       "array([  0.,   1.,   2.,   3.,   4.,   5.,   6.,   7.,   8.,   9.,  10.,\n",
       "        11.,  12.,  13.,  14.,  15.,  16.,  17.,  18.,  19.,  20.,  21.,\n",
       "        22.,  23.,  24.,  25.,  26.,  27.,  28.,  29.,  30.,  31.,  32.,\n",
       "        33.,  34.,  35.,  36.,  37.,  38.,  39.,  40.,  41.,  42.,  43.,\n",
       "        44.,  45.,  46.,  47.,  48.,  49.,  50.,  51.,  52.,  53.,  54.,\n",
       "        55.,  56.,  57.,  58.,  59.,  60.,  61.,  62.,  63.,  64.,  65.,\n",
       "        66.,  67.,  68.,  69.,  70.,  71.,  72.,  73.,  74.,  75.,  76.,\n",
       "        77.,  78.,  79.,  80.,  81.,  82.,  83.,  84.,  85.,  86.,  87.,\n",
       "        88.,  89.,  90.,  91.,  92.,  93.,  94.,  95.,  96.,  97.,  98.,\n",
       "        99., 100., 101., 102., 103., 104., 105., 106., 107., 108., 109.,\n",
       "       110., 111., 112., 113., 114., 115., 116., 117., 118., 119., 120.,\n",
       "       121., 122., 123., 124., 125., 126., 127., 128., 129., 130., 131.,\n",
       "       132., 133., 134., 135., 136., 137., 138., 139., 140., 141., 142.,\n",
       "       143., 144., 145., 146., 147., 148., 149., 150., 151., 152., 153.,\n",
       "       154., 155., 156., 157., 158., 159., 160., 161., 162., 163., 164.,\n",
       "       165., 166., 167., 168., 169., 170., 171., 172., 173., 174., 175.,\n",
       "       176., 177., 178., 179., 180., 181., 182., 183., 184., 185., 186.,\n",
       "       187., 188., 189., 190., 191., 192., 193., 194., 195., 196., 197.,\n",
       "       198., 199., 200., 201., 202., 203., 204., 205., 206., 207., 208.,\n",
       "       209., 210., 211., 212., 213., 214., 215., 216., 217., 218., 219.,\n",
       "       220., 221., 222., 223., 224., 225., 226., 227., 228., 229., 230.,\n",
       "       231., 232., 233., 234., 235., 236., 237., 238., 239., 240., 241.,\n",
       "       242., 243., 244., 245., 246., 247., 248., 249., 250., 251., 252.,\n",
       "       253., 254., 255., 256., 257., 258., 259., 260., 261., 262., 263.,\n",
       "       264., 265., 266., 267., 268., 269., 270., 271., 272., 273., 274.,\n",
       "       275., 276., 277., 278., 279., 280., 281., 282., 283., 284., 285.,\n",
       "       286., 287., 288., 289., 290., 291., 292., 293., 294., 295., 296.,\n",
       "       297., 298., 299., 300., 301., 302., 303., 304., 305., 306., 307.,\n",
       "       308., 309., 310., 311., 312., 313., 314., 315., 316., 317., 318.,\n",
       "       319., 320., 321., 322., 323., 324., 325., 326., 327., 328., 329.,\n",
       "       330., 331., 332., 333., 334., 335., 336., 337., 338., 339., 340.,\n",
       "       341., 342., 343., 344., 345., 346., 347., 348., 349., 350., 351.,\n",
       "       352., 353., 354., 355., 356., 357., 358., 359., 360., 361., 362.,\n",
       "       363., 364., 365., 366., 367., 368., 369., 370., 371., 372., 373.,\n",
       "       374., 375., 376., 377., 378., 379., 380., 381., 382., 383., 384.,\n",
       "       385., 386., 387., 388., 389., 390., 391., 392., 393., 394., 395.,\n",
       "       396., 397., 398., 399., 400.], dtype=float32)"
      ]
     },
     "execution_count": 40,
     "metadata": {},
     "output_type": "execute_result"
    }
   ],
   "source": [
    "np.unique(sch1000lab_dat)"
   ]
  },
  {
   "cell_type": "code",
   "execution_count": null,
   "metadata": {},
   "outputs": [],
   "source": []
  },
  {
   "cell_type": "code",
   "execution_count": null,
   "metadata": {},
   "outputs": [],
   "source": []
  },
  {
   "cell_type": "code",
   "execution_count": null,
   "metadata": {},
   "outputs": [],
   "source": []
  },
  {
   "cell_type": "code",
   "execution_count": null,
   "metadata": {},
   "outputs": [],
   "source": []
  },
  {
   "cell_type": "code",
   "execution_count": null,
   "metadata": {},
   "outputs": [],
   "source": []
  },
  {
   "cell_type": "code",
   "execution_count": null,
   "metadata": {},
   "outputs": [],
   "source": []
  },
  {
   "cell_type": "code",
   "execution_count": 10,
   "metadata": {},
   "outputs": [],
   "source": [
    "# concatenate the lh and rh 32k surfaces\n",
    "lhwrhw32k_vtx = np.concatenate([lhw32k_vtx, rhw32k_vtx])\n",
    "df_lhwrhw32k_vtx = pd.DataFrame(lhwrhw32k_vtx, columns=['x', 'y', 'z'])\n",
    "\n",
    "# concatenate the lh and rh 130k surfaces\n",
    "lhwrhw130k_vtx = np.concatenate([lhw130k_vtx, rhw130k_vtx])\n",
    "df_lhwrhw130k_vtx = pd.DataFrame(lhwrhw130k_vtx, columns=['x', 'y', 'z'])\n",
    "\n",
    "# extract isosurface from no-diff brain mask (nbm) image\n",
    "nbm_verts, nbm_faces, nbm_normals, nbm_values = measure.marching_cubes_lewiner(nbm_dat,0)\n",
    "df_nbm_verts = pd.DataFrame(nbm_verts,columns=['x', 'y', 'z'])\n",
    "\n",
    "# apply voxel-to-world affine transform to isosurface vertices\n",
    "nbm_verts_tr = nib.affines.apply_affine(nbm_img.affine,nbm_verts)\n",
    "df_nbm_verts_tr = pd.DataFrame(nbm_verts_tr,columns=['x', 'y', 'z'])\n",
    "\n",
    "# concatenate lh and rh surfaces (32k)\n",
    "lhwrhw32k_tri = np.concatenate([lhw32k_tri, rhw32k_tri + lhw32k_vtx.shape[0]])\n",
    "\n",
    "# concatenate lh and rh surfaces (130k)\n",
    "lhwrhw130k_tri = np.concatenate([lhw130k_tri, rhw130k_tri + lhw130k_vtx.shape[0]])\n",
    "\n",
    "# Compute dconn-to-gifti surface mapping \n",
    "lh_idxs,rh_idxs = [],[]\n",
    "for a_it in range(0,sulc_ax1.size):\n",
    "    el = sulc_ax1.get_element(a_it)\n",
    "    if el[2] == 'CIFTI_STRUCTURE_CORTEX_LEFT':\n",
    "        lh_idxs.append([a_it,el[1]])\n",
    "    elif el[2] == 'CIFTI_STRUCTURE_CORTEX_RIGHT':        \n",
    "        rh_idxs.append([a_it,el[1]])\n",
    "lh_idxs = np.array(lh_idxs)\n",
    "rh_idxs = np.array(rh_idxs)"
   ]
  },
  {
   "cell_type": "code",
   "execution_count": 11,
   "metadata": {},
   "outputs": [],
   "source": [
    "x,y,z = mt_vtx.T"
   ]
  },
  {
   "cell_type": "code",
   "execution_count": 12,
   "metadata": {},
   "outputs": [],
   "source": [
    "# put the mapping in an array\n",
    "dconn_to_lh_vtx_lookup = np.zeros_like(dconn_dat[:,0])\n",
    "for l0,l1 in lh_idxs:\n",
    "    dconn_to_lh_vtx_lookup[l0] = l1"
   ]
  },
  {
   "cell_type": "code",
   "execution_count": 13,
   "metadata": {},
   "outputs": [
    {
     "data": {
      "text/plain": [
       "array([[  -1.25,    0.  ,    0.  ,   90.  ],\n",
       "       [   0.  ,    1.25,    0.  , -126.  ],\n",
       "       [   0.  ,    0.  ,    1.25,  -72.  ],\n",
       "       [   0.  ,    0.  ,    0.  ,    1.  ]])"
      ]
     },
     "execution_count": 13,
     "metadata": {},
     "output_type": "execute_result"
    }
   ],
   "source": [
    "nbm_img.affine"
   ]
  },
  {
   "cell_type": "code",
   "execution_count": 14,
   "metadata": {},
   "outputs": [],
   "source": [
    "aff = np.linalg.inv(nbm_img.affine)\n"
   ]
  },
  {
   "cell_type": "code",
   "execution_count": 15,
   "metadata": {},
   "outputs": [],
   "source": [
    "# Make a binary nifti image from the concatenated LH-RH 32k file\n",
    "# This code snippet is off the interweb ...\n",
    "\n",
    "lhwrhw32k_nii_dat = np.zeros_like(nbm_dat)\n",
    "coords_ref = np.zeros((len(lhwrhw32k_vtx[...,0]),3),dtype='float64')\n",
    "aff = np.linalg.inv(nbm_img.affine)\n",
    "coords_ref[:,0] = aff[0,0]*lhwrhw32k_vtx[...,0] + aff[0,1]*lhwrhw32k_vtx[...,1] + aff[0,2]* lhwrhw32k_vtx[...,2] + aff[0,3] \n",
    "coords_ref[:,1] = aff[1,0]*lhwrhw32k_vtx[...,0] + aff[1,1]*lhwrhw32k_vtx[...,1] + aff[1,2]* lhwrhw32k_vtx[...,2] + aff[1,3] \n",
    "coords_ref[:,2] = aff[2,0]*lhwrhw32k_vtx[...,0] + aff[2,1]*lhwrhw32k_vtx[...,1] + aff[2,2]* lhwrhw32k_vtx[...,2] + aff[2,3]   \n",
    "lhwrhw32k_nii_dat[(coords_ref[:,0]).astype(int), (coords_ref[:,1]).astype(int), (coords_ref[:,2]).astype(int)] = 1\n",
    "lhwrhw32k_nii_img = nib.Nifti1Image(lhwrhw32k_nii_dat,nbm_img.affine)"
   ]
  },
  {
   "cell_type": "code",
   "execution_count": 16,
   "metadata": {},
   "outputs": [],
   "source": [
    "# The code below is used to create a look up table from label to dconn\n",
    "\n",
    "Nvtx = lhwrhw32k_nii_dat.shape[0]\n",
    "\n",
    "label_to_dconn_lookup = np.zeros_like(sch1000lab_dat)\n",
    "label_to_dconn_lookup\n",
    "for l0,l1 in lh_idxs: label_to_dconn_lookup[l1] = l0\n",
    "for l0,l1 in rh_idxs: label_to_dconn_lookup[l1+Nvtx] = l0 # right hemisphere lookup is ' X coord' + left hemisphere size.\n",
    "label_to_dconn_lookup = label_to_dconn_lookup.astype(int)\n",
    "\n",
    "# The assert keyword is used when debugging code. \n",
    "# The assert keyword lets you test if a condition in your code returns True, if not, the program will raise an AssertionError.\n",
    "\n",
    "assert (lh_idxs.shape[0] + rh_idxs.shape[0]) == sulc_dat.shape[0]"
   ]
  },
  {
   "cell_type": "code",
   "execution_count": 17,
   "metadata": {},
   "outputs": [],
   "source": [
    "# put sulc data on the gifti surface\n",
    "sulc_dat_onsurf_lh = np.zeros_like(lhw32k_vtx[:,0])\n",
    "sulc_dat_onsurf_lh[lh_idxs[:,1]] = sulc_dat[lh_idxs[:,0]]\n",
    "\n",
    "sulc_dat_onsurf_rh = np.zeros_like(rhw32k_vtx[:,0])\n",
    "sulc_dat_onsurf_rh[rh_idxs[:,1]] = sulc_dat[rh_idxs[:,0]]"
   ]
  },
  {
   "cell_type": "code",
   "execution_count": 18,
   "metadata": {},
   "outputs": [],
   "source": [
    "sulc_dat_onsurf_lhrh = np.concatenate([sulc_dat_onsurf_lh,sulc_dat_onsurf_rh])"
   ]
  },
  {
   "cell_type": "code",
   "execution_count": 19,
   "metadata": {},
   "outputs": [],
   "source": [
    "# Make a binary nifti image from the LH 32k file\n",
    "lhw32k_nii_dat = np.zeros_like(nbm_dat)\n",
    "coords_ref = np.zeros((len(lhw32k_vtx[...,0]),3),dtype='float64')\n",
    "aff = np.linalg.inv(nbm_img.affine)\n",
    "coords_ref[:,0] = aff[0,0]*lhw32k_vtx[...,0] + aff[0,1]*lhw32k_vtx[...,1] + aff[0,2]* lhw32k_vtx[...,2] + aff[0,3] \n",
    "coords_ref[:,1] = aff[1,0]*lhw32k_vtx[...,0] + aff[1,1]*lhw32k_vtx[...,1] + aff[1,2]* lhw32k_vtx[...,2] + aff[1,3] \n",
    "coords_ref[:,2] = aff[2,0]*lhw32k_vtx[...,0] + aff[2,1]*lhw32k_vtx[...,1] + aff[2,2]* lhw32k_vtx[...,2] + aff[2,3] \n",
    "lhw32k_nii_dat[(coords_ref[:,0]).astype(int), (coords_ref[:,1]).astype(int), (coords_ref[:,2]).astype(int)] = 1\n",
    "lhw32k_nii_img = nib.Nifti1Image(lhw32k_nii_dat,nbm_img.affine)#aff)\n",
    "  \n",
    "\n",
    "# # Make a binary nifti image from the concatenated LH-RH 32k file\n",
    "# Double check that the loop below gives same result as the vectorized operation above\n",
    "lhwrhw32k_nii_dat_check = np.zeros_like(nbm_dat)\n",
    "coords_ref = np.zeros((len(lhwrhw32k_vtx[...,0]),3),dtype='float64')\n",
    "aff = np.linalg.inv(nbm_img.affine)\n",
    "coords_ref[:,0] = aff[0,0]*lhwrhw32k_vtx[...,0] + aff[0,1]*lhwrhw32k_vtx[...,1] + aff[0,2]* lhwrhw32k_vtx[...,2] + aff[0,3] \n",
    "coords_ref[:,1] = aff[1,0]*lhwrhw32k_vtx[...,0] + aff[1,1]*lhwrhw32k_vtx[...,1] + aff[1,2]* lhwrhw32k_vtx[...,2] + aff[1,3] \n",
    "coords_ref[:,2] = aff[2,0]*lhwrhw32k_vtx[...,0] + aff[2,1]*lhwrhw32k_vtx[...,1] + aff[2,2]* lhwrhw32k_vtx[...,2] + aff[2,3] \n",
    "for c_it,c in enumerate(coords_ref):\n",
    "    lhwrhw32k_nii_dat_check[(c[0]).astype(int), (c[1]).astype(int), (c[2]).astype(int)] = 1\n",
    "lhwrhw32k_nii_img_check = nib.Nifti1Image(lhwrhw32k_nii_dat_check,nbm_img.affine)\n",
    "\n",
    "assert np.nonzero(lhwrhw32k_nii_dat != lhwrhw32k_nii_dat_check )[0].shape[0] == 0\n",
    "\n",
    "\n",
    "\n",
    "# Make a binary nifti image from the concatenated LH-RH 130k file\n",
    "lhwrhw130k_nii_dat = np.zeros_like(nbm_dat)\n",
    "coords_ref = np.zeros((len(lhwrhw130k_vtx[...,0]),3),dtype='float64')\n",
    "aff = np.linalg.inv(nbm_img.affine) # affine to convert from (voxel/image) space to World Space\n",
    "coords_ref[:,0] = aff[0,0]*lhwrhw130k_vtx[...,0] + aff[0,1]*lhwrhw130k_vtx[...,1] + aff[0,2]* lhwrhw130k_vtx[...,2] + aff[0,3] \n",
    "coords_ref[:,1] = aff[1,0]*lhwrhw130k_vtx[...,0] + aff[1,1]*lhwrhw130k_vtx[...,1] + aff[1,2]* lhwrhw130k_vtx[...,2] + aff[1,3] \n",
    "coords_ref[:,2] = aff[2,0]*lhwrhw130k_vtx[...,0] + aff[2,1]*lhwrhw130k_vtx[...,1] + aff[2,2]* lhwrhw130k_vtx[...,2] + aff[2,3]   \n",
    "lhwrhw130k_nii_dat[(coords_ref[:,0]).astype(int), (coords_ref[:,1]).astype(int), (coords_ref[:,2]).astype(int)] = 1\n",
    "lhwrhw130k_nii_img = nib.Nifti1Image(lhwrhw130k_nii_dat,nbm_img.affine)"
   ]
  },
  {
   "cell_type": "code",
   "execution_count": 20,
   "metadata": {},
   "outputs": [],
   "source": [
    "# a set of coords in the *_nii_dat file will correspond to a single label from the schaefer/yeo dat files at specified indices\n",
    "\n",
    "coords_ref = np.zeros((len(lhwrhw32k_vtx[...,0]),3),dtype='float64')\n",
    "aff = np.linalg.inv(nbm_img.affine)\n",
    "coords_ref[:,0] = aff[0,0]*lhwrhw32k_vtx[...,0] + aff[0,1]*lhwrhw32k_vtx[...,1] + aff[0,2]* lhwrhw32k_vtx[...,2] + aff[0,3] \n",
    "coords_ref[:,1] = aff[1,0]*lhwrhw32k_vtx[...,0] + aff[1,1]*lhwrhw32k_vtx[...,1] + aff[1,2]* lhwrhw32k_vtx[...,2] + aff[1,3] \n",
    "coords_ref[:,2] = aff[2,0]*lhwrhw32k_vtx[...,0] + aff[2,1]*lhwrhw32k_vtx[...,1] + aff[2,2]* lhwrhw32k_vtx[...,2] + aff[2,3] \n",
    "\n",
    "# Make a nifti image from the concatenated LH-RH 32K file >>> with schaefer 1000 parcellation labels <<<\n",
    "lhwrhw32k_sch1000lab_nii_dat = np.zeros_like(nbm_dat)\n",
    "for c_it,c in enumerate(coords_ref):\n",
    "    lhwrhw32k_sch1000lab_nii_dat[(c[0].astype(int), c[1].astype(int), c[2].astype(int))] = sch1000lab_dat[c_it]\n",
    "lhwrhw32k_sch1000lab_nii_img = nib.Nifti1Image(lhwrhw32k_sch1000lab_nii_dat,nbm_img.affine)\n",
    "\n"
   ]
  },
  {
   "cell_type": "code",
   "execution_count": 21,
   "metadata": {},
   "outputs": [],
   "source": [
    "gtab = gradient_table(bvals_dat, bvecs_dat)\n",
    "# dipy wants this ... sequence info from diffusion data. "
   ]
  },
  {
   "cell_type": "code",
   "execution_count": 23,
   "metadata": {},
   "outputs": [],
   "source": [
    "#  Specify the path to the .annot file\n",
    "annot_file = '/external/rprshnas01/netdata_kcni/jglab/MemberSpaces/Data/Shrey/PyTepFit/Data/fs_directory/100307/mri/100307_Schaefer2018_400Parcels_7Networks_rewritten.nii.gz'\n",
    "\n",
    "# Load the .annot file\n",
    "annot_img = nib.load(annot_file)\n",
    "\n",
    "# Access the data from the .annot file\n",
    "annot_data = annot_img.get_data()"
   ]
  },
  {
   "cell_type": "code",
   "execution_count": 24,
   "metadata": {},
   "outputs": [
    {
     "data": {
      "text/plain": [
       "<nilearn.plotting.displays.OrthoSlicer at 0x7f54b4bebbe0>"
      ]
     },
     "execution_count": 24,
     "metadata": {},
     "output_type": "execute_result"
    },
    {
     "data": {
      "image/png": "[encoded data removed]",
      "text/plain": [
       "<Figure size 475.2x187.2 with 4 Axes>"
      ]
     },
     "metadata": {},
     "output_type": "display_data"
    }
   ],
   "source": [
    "from nilearn import plotting as nplot\n",
    "\n",
    "\n",
    "nplot.plot_roi(annot_img, dwi_img.slicer[:, :, :, 0])\n"
   ]
  },
  {
   "cell_type": "code",
   "execution_count": 30,
   "metadata": {},
   "outputs": [
    {
     "data": {
      "text/plain": [
       "array([  0,   1,   2,   3,   4,   5,   6,   7,   8,   9,  10,  11,  12,\n",
       "        13,  14,  15,  16,  17,  18,  19,  20,  21,  22,  23,  24,  25,\n",
       "        26,  27,  28,  29,  30,  31,  32,  33,  34,  35,  36,  37,  38,\n",
       "        39,  40,  41,  42,  43,  44,  45,  46,  47,  48,  49,  50,  51,\n",
       "        52,  53,  54,  55,  56,  57,  58,  59,  60,  61,  62,  63,  64,\n",
       "        65,  66,  67,  68,  69,  70,  71,  72,  73,  74,  75,  76,  77,\n",
       "        78,  79,  80,  81,  82,  83,  84,  85,  86,  87,  88,  89,  90,\n",
       "        91,  92,  93,  94,  95,  96,  97,  98,  99, 100, 101, 102, 103,\n",
       "       104, 105, 106, 107, 108, 109, 110, 111, 112, 113, 114, 115, 116,\n",
       "       117, 118, 119, 120, 121, 122, 123, 124, 125, 126, 127, 128, 129,\n",
       "       130, 131, 132, 133, 134, 135, 136, 137, 138, 139, 140, 141, 142,\n",
       "       143, 144, 145, 146, 147, 148, 149, 150, 151, 152, 153, 154, 155,\n",
       "       156, 157, 158, 159, 160, 161, 162, 163, 164, 165, 166, 167, 168,\n",
       "       169, 170, 171, 172, 173, 174, 175, 176, 177, 178, 179, 180, 181,\n",
       "       182, 183, 184, 185, 186, 187, 188, 189, 190, 191, 192, 193, 194,\n",
       "       195, 196, 197, 198, 199, 200, 201, 202, 203, 204, 205, 206, 207,\n",
       "       208, 209, 210, 211, 212, 213, 214, 215, 216, 217, 218, 219, 220,\n",
       "       221, 222, 223, 224, 225, 226, 227, 228, 229, 230, 231, 232, 233,\n",
       "       234, 235, 236, 237, 238, 239, 240, 241, 242, 243, 244, 245, 246,\n",
       "       247, 248, 249, 250, 251, 252, 253, 254, 255, 256, 257, 258, 259,\n",
       "       260, 261, 262, 263, 264, 265, 266, 267, 268, 269, 270, 271, 272,\n",
       "       273, 274, 275, 276, 277, 278, 279, 280, 281, 282, 283, 284, 285,\n",
       "       286, 287, 288, 289, 290, 291, 292, 293, 294, 295, 296, 297, 298,\n",
       "       299, 300, 301, 302, 303, 304, 305, 306, 307, 308, 309, 310, 311,\n",
       "       312, 313, 314, 315, 316, 317, 318, 319, 320, 321, 322, 323, 324,\n",
       "       325, 326, 327, 328, 329, 330, 331, 332, 333, 334, 335, 336, 337,\n",
       "       338, 339, 340, 341, 342, 343, 344, 345, 346, 347, 348, 349, 350,\n",
       "       351, 352, 353, 354, 355, 356, 357, 358, 359, 360, 361, 362, 363,\n",
       "       364, 365, 366, 367, 368, 369, 370, 371, 372, 373, 374, 375, 376,\n",
       "       377, 378, 379, 380, 381, 382, 383, 384, 385, 386, 387, 388, 389,\n",
       "       390, 391, 392, 393, 394, 395, 396, 397, 398, 399, 400],\n",
       "      dtype=uint32)"
      ]
     },
     "execution_count": 30,
     "metadata": {},
     "output_type": "execute_result"
    }
   ],
   "source": [
    "np.unique(annot_img.get_data())"
   ]
  },
  {
   "cell_type": "code",
   "execution_count": null,
   "metadata": {},
   "outputs": [],
   "source": []
  },
  {
   "cell_type": "code",
   "execution_count": null,
   "metadata": {},
   "outputs": [],
   "source": []
  },
  {
   "cell_type": "code",
   "execution_count": null,
   "metadata": {},
   "outputs": [],
   "source": []
  },
  {
   "cell_type": "code",
   "execution_count": null,
   "metadata": {},
   "outputs": [],
   "source": []
  },
  {
   "cell_type": "code",
   "execution_count": null,
   "metadata": {},
   "outputs": [],
   "source": []
  },
  {
   "cell_type": "code",
   "execution_count": null,
   "metadata": {},
   "outputs": [],
   "source": []
  },
  {
   "cell_type": "code",
   "execution_count": null,
   "metadata": {},
   "outputs": [],
   "source": []
  },
  {
   "cell_type": "code",
   "execution_count": null,
   "metadata": {},
   "outputs": [],
   "source": []
  },
  {
   "cell_type": "code",
   "execution_count": null,
   "metadata": {},
   "outputs": [],
   "source": []
  },
  {
   "cell_type": "code",
   "execution_count": null,
   "metadata": {},
   "outputs": [],
   "source": []
  },
  {
   "cell_type": "code",
   "execution_count": null,
   "metadata": {},
   "outputs": [],
   "source": []
  },
  {
   "cell_type": "code",
   "execution_count": null,
   "metadata": {},
   "outputs": [],
   "source": [
    "shm.CsaOdfModel()"
   ]
  },
  {
   "cell_type": "code",
   "execution_count": 22,
   "metadata": {},
   "outputs": [
    {
     "name": "stdout",
     "output_type": "stream",
     "text": [
      "CPU times: user 6min 30s, sys: 22.5 s, total: 6min 52s\n",
      "Wall time: 6min 52s\n"
     ]
    }
   ],
   "source": [
    "%%time\n",
    "\n",
    "# takes approx. 7 mins to run \n",
    "\n",
    "# Here, csa = consant solid angle. \n",
    "# We are giving diffusion data which is an image with 288 different diffusion directions...\n",
    "# This is a 4D image where the 4th dimension is the diffusion direction\n",
    "# Each voxel has the \"sphere\" of directions\" as seen above.\n",
    "# At every voxel, you fit a model to the diffusion data (directionally sampled diffusion weighting measurement) and that model\n",
    "# is basically a shape \n",
    "# Diffusion tensor model is an ellipsoid. Fit the shape of this model to the data. \n",
    "# Uses spherical harmonics. \n",
    "# a bit like how pca works. \n",
    "\n",
    "# The lines of code below have been borrowed from ...\n",
    "# http://localhost:8891/notebooks/Code/shreysurf/scratch/tractography_basics.ipynb\n",
    "# From cell #3 onwards ...\n",
    "\n",
    "\n",
    "csamodel = shm.CsaOdfModel(gtab, 6)\n",
    "csapeaks = peaks.peaks_from_model(model=csamodel,\n",
    "                                  data=dwi_dat,\n",
    "                                  sphere=peaks.default_sphere,\n",
    "                                  relative_peak_threshold=.8,\n",
    "                                  min_separation_angle=45,\n",
    "                                  mask=nbm_dat.astype(bool))\n",
    "\n",
    "# csa peaks - a model at every voxel of the geometric shape of the water diffusion pattern. \n",
    "# Model of the diffusion orientation pattern."
   ]
  },
  {
   "cell_type": "code",
   "execution_count": 23,
   "metadata": {},
   "outputs": [
    {
     "name": "stdout",
     "output_type": "stream",
     "text": [
      "\n",
      "\n",
      "converting input file to .gii\n",
      "\n",
      "mri_convert /nethome/kcni/hharita/Code/shreysurf/scratch/SimNIBS_to_FuncConn_F3_test_dlPFC_v2/fsavg_overlays/lh.ernie_TMS_1-0001_Magstim_70mm_Fig8_nii_scalar.fsavg.E.norm /nethome/kcni/hharita/Code/shreysurf/scratch/SimNIBS_to_FuncConn_F3_test_dlPFC_v2/fsavg_overlays/lh.ernie_TMS_1-0001_Magstim_70mm_Fig8_nii_scalar.fsavg.E.norm_164k.gii\n",
      "\n",
      "\n",
      "converting .gii file to cifti 32k space\n",
      "\n",
      "wb_command -metric-resample /nethome/kcni/hharita/Code/shreysurf/scratch/SimNIBS_to_FuncConn_F3_test_dlPFC_v2/fsavg_overlays/lh.ernie_TMS_1-0001_Magstim_70mm_Fig8_nii_scalar.fsavg.E.norm_164k.gii /nethome/kcni/hharita/Code/HCPpipelines/global/templates/standard_mesh_atlases/resample_fsaverage/fsaverage_std_sphere.L.164k_fsavg_L.surf.gii /nethome/kcni/hharita/Code/HCPpipelines/global/templates/standard_mesh_atlases/resample_fsaverage/fs_LR-deformed_to-fsaverage.L.sphere.32k_fs_LR.surf.gii ADAP_BARY_AREA /nethome/kcni/hharita/Code/shreysurf/scratch/SimNIBS_to_FuncConn_F3_test_dlPFC_v2/fsavg_overlays/lh.ernie_TMS_1-0001_Magstim_70mm_Fig8_nii_scalar.fsavg.E.norm_cifti32k.gii -area-metrics /nethome/kcni/hharita/Code/HCPpipelines/global/templates/standard_mesh_atlases/resample_fsaverage/fsaverage.L.midthickness_va_avg.164k_fsavg_L.shape.gii /nethome/kcni/hharita/Code/HCPpipelines/global/templates/standard_mesh_atlases/resample_fsaverage/fs_LR.L.midthickness_va_avg.32k_fs_LR.shape.gii\n"
     ]
    }
   ],
   "source": [
    "#base_dir = '/external/rprshnas01/netdata_kcni/jglab/Data/simnibs/testing/run_ernie_tutorial_v3/fsavg_overlays/'\n",
    "in_file = '/nethome/kcni/hharita/Code/shreysurf/scratch/SimNIBS_to_FuncConn_F3_test_dlPFC_v2/fsavg_overlays/lh.ernie_TMS_1-0001_Magstim_70mm_Fig8_nii_scalar.fsavg.E.norm'\n",
    "\n",
    "res0,res1,outfile = convert_simnibs_fsavg_to_cifti_32K(in_file,run_it=True)#False)#,base_dir=base_dir)"
   ]
  },
  {
   "cell_type": "code",
   "execution_count": 24,
   "metadata": {},
   "outputs": [],
   "source": [
    "gii_img = nib.load(outfile)"
   ]
  },
  {
   "cell_type": "code",
   "execution_count": 25,
   "metadata": {},
   "outputs": [],
   "source": [
    "gii_dat = gii_img.darrays[0].data[:]"
   ]
  },
  {
   "cell_type": "code",
   "execution_count": 85,
   "metadata": {},
   "outputs": [
    {
     "data": {
      "text/plain": [
       "array([0.05784884, 0.15604629, 0.37579626, ..., 0.17645913, 0.17885755,\n",
       "       0.16834968], dtype=float32)"
      ]
     },
     "execution_count": 85,
     "metadata": {},
     "output_type": "execute_result"
    }
   ],
   "source": [
    "gii_dat"
   ]
  },
  {
   "cell_type": "code",
   "execution_count": 26,
   "metadata": {},
   "outputs": [],
   "source": [
    "# disp = plot_surf_stat_map([pial_vtx,pial_tri], gii_dat, hemi='left', view='lateral', cmap='hot', \n",
    "#                           bg_map=None);"
   ]
  },
  {
   "cell_type": "code",
   "execution_count": 40,
   "metadata": {},
   "outputs": [],
   "source": [
    "gii_dat_thr0p6_bin = (gii_dat>0.5).astype(float)"
   ]
  },
  {
   "cell_type": "code",
   "execution_count": 41,
   "metadata": {},
   "outputs": [
    {
     "data": {
      "text/plain": [
       "(1913,)"
      ]
     },
     "execution_count": 41,
     "metadata": {},
     "output_type": "execute_result"
    }
   ],
   "source": [
    "gii_patch_val = 1.\n",
    "gii_patch_idx = np.nonzero(gii_dat_thr0p6_bin==gii_patch_val)[0]\n",
    "gii_patch_idx.shape\n",
    "# essentially, you're defining the patch region you want to create. \n"
   ]
  },
  {
   "cell_type": "code",
   "execution_count": 93,
   "metadata": {},
   "outputs": [
    {
     "data": {
      "text/plain": [
       "array([[ -5.9043903, -38.569595 ,  22.791294 ],\n",
       "       [-14.198056 , -35.937576 ,  63.044044 ],\n",
       "       [-47.507023 ,  -4.938016 ,  38.584553 ],\n",
       "       ...,\n",
       "       [ 58.350616 , -36.73624  ,  -9.005781 ],\n",
       "       [ 59.845013 , -35.893356 ,  -8.383142 ],\n",
       "       [ 59.268936 , -37.8942   ,  -7.976392 ]], dtype=float32)"
      ]
     },
     "execution_count": 93,
     "metadata": {},
     "output_type": "execute_result"
    }
   ],
   "source": [
    "lhwrhw32k_vtx"
   ]
  },
  {
   "cell_type": "code",
   "execution_count": 94,
   "metadata": {},
   "outputs": [
    {
     "data": {
      "text/plain": [
       "array([-38.569595, -35.937576,  -4.938016, ..., -36.73624 , -35.893356,\n",
       "       -37.8942  ], dtype=float32)"
      ]
     },
     "execution_count": 94,
     "metadata": {},
     "output_type": "execute_result"
    }
   ],
   "source": [
    "lhwrhw32k_vtx[:,1]"
   ]
  },
  {
   "cell_type": "code",
   "execution_count": 92,
   "metadata": {},
   "outputs": [
    {
     "data": {
      "text/plain": [
       "array([-38.569595, -35.937576,  -4.938016, ..., -36.73624 , -35.893356,\n",
       "       -37.8942  ], dtype=float32)"
      ]
     },
     "execution_count": 92,
     "metadata": {},
     "output_type": "execute_result"
    }
   ],
   "source": [
    "lhwrhw32k_vtx[...,1]"
   ]
  },
  {
   "cell_type": "code",
   "execution_count": 89,
   "metadata": {},
   "outputs": [
    {
     "data": {
      "text/plain": [
       "array([[  -1.25,    0.  ,    0.  ,   90.  ],\n",
       "       [   0.  ,    1.25,    0.  , -126.  ],\n",
       "       [   0.  ,    0.  ,    1.25,  -72.  ],\n",
       "       [   0.  ,    0.  ,    0.  ,    1.  ]])"
      ]
     },
     "execution_count": 89,
     "metadata": {},
     "output_type": "execute_result"
    }
   ],
   "source": [
    "aff"
   ]
  },
  {
   "cell_type": "code",
   "execution_count": 97,
   "metadata": {},
   "outputs": [
    {
     "data": {
      "text/plain": [
       "(32492, 3)"
      ]
     },
     "execution_count": 97,
     "metadata": {},
     "output_type": "execute_result"
    }
   ],
   "source": [
    "coords_ref_lh.shape"
   ]
  },
  {
   "cell_type": "code",
   "execution_count": 51,
   "metadata": {},
   "outputs": [],
   "source": [
    "# a set of coords in the *_nii_dat file will correspond to a single label from the schaefer/yeo dat files at specified indices\n",
    "\n",
    "coords_ref = np.zeros((len(lhwrhw32k_vtx[...,0]),3),dtype='float64')\n",
    "aff = np.linalg.inv(nbm_img.affine)\n",
    "coords_ref[:,0] = aff[0,0]*lhwrhw32k_vtx[...,0] + aff[0,1]*lhwrhw32k_vtx[...,1] + aff[0,2]* lhwrhw32k_vtx[...,2] + aff[0,3] \n",
    "coords_ref[:,1] = aff[1,0]*lhwrhw32k_vtx[...,0] + aff[1,1]*lhwrhw32k_vtx[...,1] + aff[1,2]* lhwrhw32k_vtx[...,2] + aff[1,3] \n",
    "coords_ref[:,2] = aff[2,0]*lhwrhw32k_vtx[...,0] + aff[2,1]*lhwrhw32k_vtx[...,1] + aff[2,2]* lhwrhw32k_vtx[...,2] + aff[2,3] \n",
    "\n",
    "coords_ref_lh = coords_ref[0:mt_vtx.shape[0]]\n",
    "\n",
    "# Make a nifti image from the concatenated LH-RH 32K file >>> with schaefer 1000 parcellation labels <<<\n",
    "lhwrhw32k_SimNIBS_gii_dat = np.zeros_like(nbm_dat)\n",
    "for c_it,c in enumerate(coords_ref_lh):\n",
    "    lhwrhw32k_SimNIBS_gii_dat[(c[0].astype(int), c[1].astype(int), c[2].astype(int))] = gii_dat[c_it]\n",
    "lhwrhw32k_SimNIBS_gii_img = nib.Nifti1Image(lhwrhw32k_sch1000lab_nii_dat,nbm_img.affine)"
   ]
  },
  {
   "cell_type": "code",
   "execution_count": 52,
   "metadata": {},
   "outputs": [],
   "source": [
    "dlPFC_dat = (lhwrhw32k_SimNIBS_gii_dat >= 0.5).astype(float)"
   ]
  },
  {
   "cell_type": "code",
   "execution_count": 86,
   "metadata": {
    "collapsed": true
   },
   "outputs": [
    {
     "data": {
      "text/plain": [
       "array([[[0., 0., 0., ..., 0., 0., 0.],\n",
       "        [0., 0., 0., ..., 0., 0., 0.],\n",
       "        [0., 0., 0., ..., 0., 0., 0.],\n",
       "        ...,\n",
       "        [0., 0., 0., ..., 0., 0., 0.],\n",
       "        [0., 0., 0., ..., 0., 0., 0.],\n",
       "        [0., 0., 0., ..., 0., 0., 0.]],\n",
       "\n",
       "       [[0., 0., 0., ..., 0., 0., 0.],\n",
       "        [0., 0., 0., ..., 0., 0., 0.],\n",
       "        [0., 0., 0., ..., 0., 0., 0.],\n",
       "        ...,\n",
       "        [0., 0., 0., ..., 0., 0., 0.],\n",
       "        [0., 0., 0., ..., 0., 0., 0.],\n",
       "        [0., 0., 0., ..., 0., 0., 0.]],\n",
       "\n",
       "       [[0., 0., 0., ..., 0., 0., 0.],\n",
       "        [0., 0., 0., ..., 0., 0., 0.],\n",
       "        [0., 0., 0., ..., 0., 0., 0.],\n",
       "        ...,\n",
       "        [0., 0., 0., ..., 0., 0., 0.],\n",
       "        [0., 0., 0., ..., 0., 0., 0.],\n",
       "        [0., 0., 0., ..., 0., 0., 0.]],\n",
       "\n",
       "       ...,\n",
       "\n",
       "       [[0., 0., 0., ..., 0., 0., 0.],\n",
       "        [0., 0., 0., ..., 0., 0., 0.],\n",
       "        [0., 0., 0., ..., 0., 0., 0.],\n",
       "        ...,\n",
       "        [0., 0., 0., ..., 0., 0., 0.],\n",
       "        [0., 0., 0., ..., 0., 0., 0.],\n",
       "        [0., 0., 0., ..., 0., 0., 0.]],\n",
       "\n",
       "       [[0., 0., 0., ..., 0., 0., 0.],\n",
       "        [0., 0., 0., ..., 0., 0., 0.],\n",
       "        [0., 0., 0., ..., 0., 0., 0.],\n",
       "        ...,\n",
       "        [0., 0., 0., ..., 0., 0., 0.],\n",
       "        [0., 0., 0., ..., 0., 0., 0.],\n",
       "        [0., 0., 0., ..., 0., 0., 0.]],\n",
       "\n",
       "       [[0., 0., 0., ..., 0., 0., 0.],\n",
       "        [0., 0., 0., ..., 0., 0., 0.],\n",
       "        [0., 0., 0., ..., 0., 0., 0.],\n",
       "        ...,\n",
       "        [0., 0., 0., ..., 0., 0., 0.],\n",
       "        [0., 0., 0., ..., 0., 0., 0.],\n",
       "        [0., 0., 0., ..., 0., 0., 0.]]], dtype=float32)"
      ]
     },
     "execution_count": 86,
     "metadata": {},
     "output_type": "execute_result"
    }
   ],
   "source": [
    "lhwrhw32k_SimNIBS_gii_dat"
   ]
  },
  {
   "cell_type": "code",
   "execution_count": 98,
   "metadata": {},
   "outputs": [
    {
     "data": {
      "text/plain": [
       "(145, 174, 145)"
      ]
     },
     "execution_count": 98,
     "metadata": {},
     "output_type": "execute_result"
    }
   ],
   "source": [
    "nbm_img.shape"
   ]
  },
  {
   "cell_type": "code",
   "execution_count": 82,
   "metadata": {},
   "outputs": [
    {
     "data": {
      "text/plain": [
       "(145, 174, 145)"
      ]
     },
     "execution_count": 82,
     "metadata": {},
     "output_type": "execute_result"
    }
   ],
   "source": [
    "dlPFC_dat.shape"
   ]
  },
  {
   "cell_type": "code",
   "execution_count": 53,
   "metadata": {},
   "outputs": [
    {
     "name": "stdout",
     "output_type": "stream",
     "text": [
      "CPU times: user 57.4 s, sys: 9.98 s, total: 1min 7s\n",
      "Wall time: 1min 7s\n"
     ]
    }
   ],
   "source": [
    "%%time\n",
    "\n",
    "aff = b0_img.affine\n",
    "seeds_d2_dlPFC = utils.seeds_from_mask(dlPFC_dat,aff,density=4) # <-- Density has been increased! Takes way longer to run!\n",
    "stopping_criterion = BinaryStoppingCriterion(nbm_dat)\n",
    "\n",
    "streamline_generator_b0aff_d2_dlPFC = LocalTracking(csapeaks,stopping_criterion,seeds_d2_dlPFC,affine=aff,step_size=0.5)\n",
    "streamlines_b0aff_d2_dlPFC = Streamlines(streamline_generator_b0aff_d2_dlPFC)\n",
    "streamlines_b0aff_d2_ds_dlPFC = np.array([approx_polygon_track(s) for s in streamlines_b0aff_d2_dlPFC])\n",
    "\n",
    "# pull out a subset of streamlines you wish to work with ... as a representative group of the whole brain. \n",
    "subset_idx = np.arange(0,len(streamlines_b0aff_d2_ds_dlPFC),20)\n",
    "streamlines_b0ff_d2_ds_dlPFC_subset = streamlines_b0aff_d2_ds_dlPFC[subset_idx]\n",
    "\n",
    "# look into dipy.io\n",
    "# to reduce runtime, seed only from ROIs of interest ... change lhwrhw32k to dlpfclhrh32k.\n",
    "# make a different vertex array. "
   ]
  },
  {
   "cell_type": "code",
   "execution_count": 105,
   "metadata": {},
   "outputs": [
    {
     "data": {
      "text/plain": [
       "ArraySequence([array([[ 5.83956564, 41.98188688, 30.83350139],\n",
       "       [ 5.34057419, 41.98066791, 30.80178323],\n",
       "       [ 4.84169414, 41.98275351, 30.7684013 ],\n",
       "       [ 4.34307714, 41.99105457, 30.73217732],\n",
       "       [ 3.84494552, 42.00349669, 30.69082418],\n",
       "       [ 3.34609598, 42.02541927, 30.66496816],\n",
       "       [ 2.84725601, 42.05910516, 30.66007436],\n",
       "       [ 2.34931909, 42.09597158, 30.68652594],\n",
       "       [ 1.85606972, 42.11738294, 30.76556147],\n",
       "       [ 1.3710937 , 42.12431795, 30.88701175],\n",
       "       [ 0.88343507, 42.0868711 , 30.99087123],\n",
       "       [ 0.39428534, 42.00727482, 31.05718087],\n",
       "       [-0.0964044 , 41.91641053, 31.08828174],\n",
       "       [-0.59474971, 41.90563654, 31.12747189],\n",
       "       [-1.08608901, 41.98050732, 31.18206184],\n",
       "       [-1.56922911, 42.09400223, 31.24284462],\n",
       "       [-2.03125   , 42.28125   , 31.28125   ],\n",
       "       [-2.50432548, 42.43634805, 31.32755538],\n",
       "       [-2.9612058 , 42.63875471, 31.34464083],\n",
       "       [-3.40748279, 42.85899526, 31.39292072],\n",
       "       [-3.83952513, 43.09386003, 31.48335281],\n",
       "       [-4.2495037 , 43.35300436, 31.60485091]]), array([[ 5.50110868, 41.71703977, 30.85953412],\n",
       "       [ 5.00427052, 41.73693201, 30.80703513],\n",
       "       [ 4.5062324 , 41.75814337, 30.76820084],\n",
       "       [ 4.00755754, 41.77959438, 30.73881986],\n",
       "       [ 3.50836337, 41.80437382, 30.72499368],\n",
       "       [ 3.00949771, 41.83607064, 30.7363234 ],\n",
       "       [ 2.51227863, 41.87209188, 30.7747377 ],\n",
       "       [ 2.01781111, 41.89746271, 30.84443841],\n",
       "       [ 1.52780163, 41.91145354, 30.94290143],\n",
       "       [ 1.03740351, 41.89914907, 31.03963964],\n",
       "       [ 0.54373245, 41.84689713, 31.09929385],\n",
       "       [ 0.05121369, 41.76185117, 31.11316653],\n",
       "       [-0.44779686, 41.73575626, 31.13070312],\n",
       "       [-0.94455529, 41.7797651 , 31.16667918],\n",
       "       [-1.4315368 , 41.87988203, 31.21983564],\n",
       "       [-1.89710988, 42.05736254, 31.26157746],\n",
       "       [-2.34375   , 42.28125   , 31.28125   ],\n",
       "       [-2.80907149, 42.46157027, 31.3122422 ],\n",
       "       [-3.26024862, 42.67361815, 31.35064642],\n",
       "       [-3.70082047, 42.89766896, 31.42612943],\n",
       "       [-4.12115845, 43.14121567, 31.54445519]]), array([[ 5.63849221, 41.40931445, 30.92457842],\n",
       "       [ 5.14507843, 41.44122213, 30.85024985],\n",
       "       [ 4.64922062, 41.47829325, 30.79780205],\n",
       "       [ 4.15119216, 41.51380212, 30.77121689],\n",
       "       [ 3.65227142, 41.54626971, 30.76632281],\n",
       "       [ 3.15404384, 41.58116635, 30.78980683],\n",
       "       [ 2.6581573 , 41.61476411, 30.84428371],\n",
       "       [ 2.16429676, 41.64126073, 30.91776631],\n",
       "       [ 1.67219802, 41.65936661, 31.0044324 ],\n",
       "       [ 1.18072297, 41.66471812, 31.09621277],\n",
       "       [ 0.6843449 , 41.634261  , 31.14799287],\n",
       "       [ 0.18800122, 41.57400503, 31.15148085],\n",
       "       [-0.31075257, 41.53962017, 31.14358511],\n",
       "       [-0.80992398, 41.56589381, 31.15531502],\n",
       "       [-1.30067575, 41.6540406 , 31.19263596],\n",
       "       [-1.77059129, 41.82028795, 31.23189404],\n",
       "       [-2.2192067 , 42.0393523 , 31.25937188],\n",
       "       [-2.65625   , 42.28125   , 31.28125   ],\n",
       "       [-3.11371743, 42.48028099, 31.3145699 ],\n",
       "       [-3.55863385, 42.69986957, 31.3764588 ],\n",
       "       [-3.98954684, 42.93130074, 31.48015839],\n",
       "       [-4.40003245, 43.18959575, 31.60175302]]), ..., array([[-58.52061944,   5.14511672,  10.66669052],\n",
       "       [-58.49202846,   4.92047693,  11.1124702 ],\n",
       "       [-58.46769301,   4.64366234,  11.52814011],\n",
       "       [-58.44725466,   4.34778667,  11.93068185],\n",
       "       [-58.41265593,   4.05277051,  12.33288627],\n",
       "       [-58.35845361,   3.76815048,  12.74038296],\n",
       "       [-58.29401077,   3.49647658,  13.15516051],\n",
       "       [-58.2252319 ,   3.24350378,  13.58092361],\n",
       "       [-58.14427898,   3.00987895,  14.01551085],\n",
       "       [-58.0904262 ,   2.7669994 ,  14.44922666],\n",
       "       [-58.10422189,   2.49467654,  14.86833277],\n",
       "       [-58.1316824 ,   2.21081775,  15.27902744],\n",
       "       [-58.08234639,   1.92975017,  15.68959653],\n",
       "       [-57.96754277,   1.65155653,  16.08888142],\n",
       "       [-57.84285468,   1.36194041,  16.47692186],\n",
       "       [-57.73549028,   1.04922652,  16.85199906],\n",
       "       [-57.65625   ,   0.71875   ,  17.21875   ],\n",
       "       [-57.57700972,   0.38827348,  17.58550094]]), array([[-6.23387548e+01, -8.94560251e-01,  1.48833912e+01],\n",
       "       [-6.22221812e+01, -4.59084259e-01,  1.50996579e+01],\n",
       "       [-6.20585314e+01, -7.58757513e-02,  1.53760090e+01],\n",
       "       [-6.18274799e+01,  2.30261802e-01,  1.56967815e+01],\n",
       "       [-6.15648516e+01,  4.62003400e-01,  1.60536039e+01],\n",
       "       [-6.12598533e+01,  6.61402441e-01,  1.63959722e+01],\n",
       "       [-6.08845793e+01,  8.54009246e-01,  1.66644346e+01],\n",
       "       [-6.04309823e+01,  9.04462624e-01,  1.68686508e+01],\n",
       "       [-5.99510794e+01,  8.52672127e-01,  1.69990765e+01],\n",
       "       [-5.94561640e+01,  8.31308795e-01,  1.70669175e+01],\n",
       "       [-5.89594500e+01,  8.09710533e-01,  1.71199148e+01],\n",
       "       [-5.84629652e+01,  7.74915002e-01,  1.71677908e+01],\n",
       "       [-5.79687500e+01,  7.18750000e-01,  1.72187500e+01],\n",
       "       [-5.74745348e+01,  6.62584998e-01,  1.72697092e+01],\n",
       "       [-5.69840985e+01,  5.83750028e-01,  1.73267820e+01],\n",
       "       [-5.64897139e+01,  5.17272368e-01,  1.73609071e+01],\n",
       "       [-5.59924874e+01,  4.65001430e-01,  1.73667044e+01],\n",
       "       [-5.54941268e+01,  4.26205708e-01,  1.73552331e+01],\n",
       "       [-5.49950379e+01,  3.99986688e-01,  1.73403071e+01],\n",
       "       [-5.44955590e+01,  3.85206113e-01,  1.73229182e+01],\n",
       "       [-5.40031530e+01,  2.98843671e-01,  1.73140946e+01],\n",
       "       [-5.35263565e+01,  1.48298146e-01,  1.73129963e+01],\n",
       "       [-5.30677513e+01, -5.03652620e-02,  1.72983639e+01],\n",
       "       [-5.26339206e+01, -2.93274102e-01,  1.72455795e+01],\n",
       "       [-5.22432760e+01, -5.90440112e-01,  1.71502422e+01],\n",
       "       [-5.18627519e+01, -8.93435948e-01,  1.70345058e+01],\n",
       "       [-5.14926217e+01, -1.20448920e+00,  1.69070322e+01],\n",
       "       [-5.11294386e+01, -1.52561217e+00,  1.67846473e+01],\n",
       "       [-5.07576371e+01, -1.84161124e+00,  1.66755226e+01],\n",
       "       [-5.03684540e+01, -2.13897555e+00,  1.65749692e+01],\n",
       "       [-4.99591157e+01, -2.40991425e+00,  1.64799197e+01],\n",
       "       [-4.95285590e+01, -2.65140335e+00,  1.64005222e+01],\n",
       "       [-4.90849375e+01, -2.87962736e+00,  1.63671499e+01],\n",
       "       [-4.86411876e+01, -3.11002691e+00,  1.63656961e+01],\n",
       "       [-4.81999136e+01, -3.34419773e+00,  1.63867017e+01],\n",
       "       [-4.77535195e+01, -3.56596559e+00,  1.64260886e+01],\n",
       "       [-4.73050069e+01, -3.78019746e+00,  1.64803214e+01],\n",
       "       [-4.68553333e+01, -3.98941408e+00,  1.65437407e+01],\n",
       "       [-4.64064622e+01, -4.19775652e+00,  1.66152122e+01],\n",
       "       [-4.59632467e+01, -4.41433582e+00,  1.66967809e+01],\n",
       "       [-4.55269291e+01, -4.63528950e+00,  1.68007348e+01],\n",
       "       [-4.50939181e+01, -4.84822113e+00,  1.69317370e+01],\n",
       "       [-4.46640746e+01, -5.05424448e+00,  1.70826970e+01],\n",
       "       [-4.42398131e+01, -5.27212523e+00,  1.72327977e+01],\n",
       "       [-4.38219248e+01, -5.50567712e+00,  1.73770991e+01],\n",
       "       [-4.34115778e+01, -5.75761040e+00,  1.75118023e+01],\n",
       "       [-4.30020778e+01, -6.00837475e+00,  1.76511830e+01],\n",
       "       [-4.25889543e+01, -6.24351063e+00,  1.78062316e+01],\n",
       "       [-4.21649267e+01, -6.44855305e+00,  1.79740357e+01],\n",
       "       [-4.17304760e+01, -6.63608940e+00,  1.81355371e+01],\n",
       "       [-4.12903828e+01, -6.81316029e+00,  1.82935367e+01],\n",
       "       [-4.08442275e+01, -6.97531796e+00,  1.84505411e+01],\n",
       "       [-4.03932592e+01, -7.12530778e+00,  1.86058816e+01],\n",
       "       [-3.99381418e+01, -7.26417555e+00,  1.87594520e+01],\n",
       "       [-3.94788547e+01, -7.39392124e+00,  1.89085204e+01],\n",
       "       [-3.90156775e+01, -7.53218912e+00,  1.90363832e+01],\n",
       "       [-3.85466253e+01, -7.67026817e+00,  1.91409021e+01],\n",
       "       [-3.80726307e+01, -7.80162278e+00,  1.92307637e+01],\n",
       "       [-3.75957466e+01, -7.92331597e+00,  1.93189244e+01],\n",
       "       [-3.71159249e+01, -8.03180517e+00,  1.94083736e+01],\n",
       "       [-3.66349381e+01, -8.13142710e+00,  1.95017930e+01]]), array([[-58.67272288,   5.26674534,  10.74434126],\n",
       "       [-58.65519692,   4.98807092,  11.15911036],\n",
       "       [-58.63956956,   4.69147502,  11.56133749],\n",
       "       [-58.61916246,   4.39156066,  11.96088088],\n",
       "       [-58.58243055,   4.09767967,  12.36372668],\n",
       "       [-58.5298193 ,   3.8121769 ,  12.77081416],\n",
       "       [-58.47015769,   3.53809489,  13.18472182],\n",
       "       [-58.40248273,   3.28184683,  13.60869944],\n",
       "       [-58.31784738,   3.04501833,  14.04084423],\n",
       "       [-58.26984252,   2.79601384,  14.47176453],\n",
       "       [-58.31214154,   2.51901367,  14.88586801],\n",
       "       [-58.38343145,   2.23327415,  15.28993567],\n",
       "       [-58.36118081,   1.94808035,  15.70002031],\n",
       "       [-58.25344698,   1.66721347,  16.09940386],\n",
       "       [-58.12541636,   1.3788999 ,  16.48732582],\n",
       "       [-58.01915647,   1.06606962,  16.86262043],\n",
       "       [-57.96875   ,   0.71875   ,  17.21875   ],\n",
       "       [-57.91834353,   0.37143038,  17.57487957]])])"
      ]
     },
     "execution_count": 105,
     "metadata": {},
     "output_type": "execute_result"
    }
   ],
   "source": [
    "streamlines_b0aff_d2_dlPFC"
   ]
  },
  {
   "cell_type": "code",
   "execution_count": 106,
   "metadata": {},
   "outputs": [
    {
     "data": {
      "text/plain": [
       "array([array([[ 5.8395658, 41.981888 , 30.833502 ],\n",
       "       [ 1.3710938, 42.124317 , 30.887012 ],\n",
       "       [-0.5947497, 41.905636 , 31.127472 ],\n",
       "       [-2.5043254, 42.436348 , 31.327555 ],\n",
       "       [-4.2495036, 43.353004 , 31.60485  ]], dtype=float32),\n",
       "       array([[ 5.5011086, 41.71704  , 30.859533 ],\n",
       "       [ 1.0374035, 41.89915  , 31.03964  ],\n",
       "       [-0.9445553, 41.779766 , 31.16668  ],\n",
       "       [-2.8090715, 42.46157  , 31.312243 ],\n",
       "       [-4.1211586, 43.141216 , 31.544455 ]], dtype=float32),\n",
       "       array([[ 5.638492 , 41.409313 , 30.924578 ],\n",
       "       [ 1.180723 , 41.66472  , 31.096212 ],\n",
       "       [-0.809924 , 41.565895 , 31.155315 ],\n",
       "       [-2.65625  , 42.28125  , 31.28125  ],\n",
       "       [-4.4000325, 43.189594 , 31.601753 ]], dtype=float32),\n",
       "       ...,\n",
       "       array([[-58.52062   ,   5.145117  ,  10.666691  ],\n",
       "       [-58.14428   ,   3.0098789 ,  14.015511  ],\n",
       "       [-58.082348  ,   1.9297502 ,  15.689596  ],\n",
       "       [-57.57701   ,   0.38827348,  17.5855    ]], dtype=float32),\n",
       "       array([[-62.338757  ,  -0.8945603 ,  14.883391  ],\n",
       "       [-62.058533  ,  -0.07587575,  15.376009  ],\n",
       "       [-61.259853  ,   0.66140246,  16.395971  ],\n",
       "       [-60.43098   ,   0.90446264,  16.86865   ],\n",
       "       [-56.489716  ,   0.51727235,  17.360907  ],\n",
       "       [-53.526356  ,   0.14829814,  17.312996  ],\n",
       "       [-51.492622  ,  -1.2044892 ,  16.907032  ],\n",
       "       [-49.084938  ,  -2.8796275 ,  16.36715   ],\n",
       "       [-44.239815  ,  -5.2721252 ,  17.232798  ],\n",
       "       [-39.01568   ,  -7.532189  ,  19.036383  ],\n",
       "       [-36.634937  ,  -8.131427  ,  19.501793  ]], dtype=float32),\n",
       "       array([[-58.67272   ,   5.2667456 ,  10.744341  ],\n",
       "       [-58.269844  ,   2.7960138 ,  14.471765  ],\n",
       "       [-58.36118   ,   1.9480803 ,  15.70002   ],\n",
       "       [-57.918343  ,   0.37143037,  17.574879  ]], dtype=float32)],\n",
       "      dtype=object)"
      ]
     },
     "execution_count": 106,
     "metadata": {},
     "output_type": "execute_result"
    }
   ],
   "source": [
    "streamlines_b0aff_d2_ds_dlPFC"
   ]
  },
  {
   "cell_type": "code",
   "execution_count": 54,
   "metadata": {},
   "outputs": [
    {
     "name": "stdout",
     "output_type": "stream",
     "text": [
      "CPU times: user 16.2 s, sys: 432 ms, total: 16.6 s\n",
      "Wall time: 16.6 s\n"
     ]
    },
    {
     "data": {
      "image/png": "[encoded data removed]",
      "text/plain": [
       "<Figure size 648x648 with 1 Axes>"
      ]
     },
     "metadata": {
      "needs_background": "light"
     },
     "output_type": "display_data"
    }
   ],
   "source": [
    "%%time\n",
    "\n",
    "fig, ax = plt.subplots(subplot_kw={'projection': '3d'},figsize=(9,9))\n",
    "for s in streamlines_b0ff_d2_ds_dlPFC_subset:\n",
    "    x,y,z = s.T\n",
    "    ax.plot(y,z,c='r',linewidth=1,alpha=0.9)\n",
    "df_mt_vtx.plot(kind='scatter', x='y', y='z', ax=ax,s=0.05,marker='.',c='k')\n",
    "df_mt_vtx.iloc[gii_patch_idx,:].plot(kind='scatter', x='y', y='z', ax=ax, s=10,marker='.',c='b')\n",
    "ax.axis('off')\n",
    "ax.view_init(azim=90,elev=-95)\n",
    "\n",
    "# plt.title(\"Subject {0}, ID - {1}\".format((i+1),sub_list[i]), fontsize=10)"
   ]
  },
  {
   "cell_type": "code",
   "execution_count": 55,
   "metadata": {},
   "outputs": [],
   "source": [
    "Connectivity_Matrix_gii, grouping_gii = utils.connectivity_matrix(streamlines_b0aff_d2_ds_dlPFC,\n",
    "                                                              b0_img.affine,\n",
    "                                                              lhwrhw32k_SimNIBS_gii_dat.astype(int),\n",
    "                                                              return_mapping=True,\n",
    "                                                              mapping_as_streamlines=True)\n",
    "\n",
    "\n",
    "Connectivity_Matrix_sch1000, grouping_sch1000 = utils.connectivity_matrix(streamlines_b0aff_d2_ds_dlPFC,\n",
    "                                                              b0_img.affine,\n",
    "                                                              lhwrhw32k_sch1000lab_nii_dat.astype(int),\n",
    "                                                              return_mapping=True,\n",
    "                                                              mapping_as_streamlines=True)"
   ]
  },
  {
   "cell_type": "code",
   "execution_count": 71,
   "metadata": {},
   "outputs": [],
   "source": [
    "#  Specify the path to the .annot file\n",
    "annot_file = '/external/rprshnas01/netdata_kcni/jglab/MemberSpaces/Data/Shrey/PyTepFit/Data/fs_directory/100307/mri/100307_Schaefer2018_400Parcels_7Networks_rewritten.nii.gz'\n",
    "\n",
    "# Load the .annot file\n",
    "annot_img = nib.load(annot_file)\n",
    "\n",
    "# Access the data from the .annot file\n",
    "annot_data = annot_img.get_data()"
   ]
  },
  {
   "cell_type": "code",
   "execution_count": 79,
   "metadata": {},
   "outputs": [
    {
     "data": {
      "text/plain": [
       "array([[ 5.8395658, 41.981888 , 30.833502 ],\n",
       "       [ 1.3710938, 42.124317 , 30.887012 ],\n",
       "       [-0.5947497, 41.905636 , 31.127472 ],\n",
       "       [-2.5043254, 42.436348 , 31.327555 ],\n",
       "       [-4.2495036, 43.353004 , 31.60485  ]], dtype=float32)"
      ]
     },
     "execution_count": 79,
     "metadata": {},
     "output_type": "execute_result"
    }
   ],
   "source": [
    "streamlines_b0ff_d2_ds_dlPFC_subset[0]"
   ]
  },
  {
   "cell_type": "code",
   "execution_count": 72,
   "metadata": {},
   "outputs": [],
   "source": [
    "Connectivity_Matrix_sch1000, grouping_sch1000 = utils.connectivity_matrix(streamlines_b0ff_d2_ds_dlPFC_subset,\n",
    "                                                              b0_img.affine,\n",
    "                                                              annot_data,\n",
    "                                                              return_mapping=True,\n",
    "                                                              mapping_as_streamlines=True)"
   ]
  },
  {
   "cell_type": "code",
   "execution_count": 73,
   "metadata": {},
   "outputs": [],
   "source": [
    "Connectivity_Matrix_sch1000 = Connectivity_Matrix_sch1000[1:,1:]\n"
   ]
  },
  {
   "cell_type": "code",
   "execution_count": 111,
   "metadata": {},
   "outputs": [
    {
     "data": {
      "text/plain": [
       "<matplotlib.axes._subplots.AxesSubplot at 0x7f1eebdbecf8>"
      ]
     },
     "execution_count": 111,
     "metadata": {},
     "output_type": "execute_result"
    },
    {
     "data": {
      "image/png": "[encoded data removed]",
      "text/plain": [
       "<Figure size 432x288 with 2 Axes>"
      ]
     },
     "metadata": {
      "needs_background": "light"
     },
     "output_type": "display_data"
    }
   ],
   "source": [
    "sns.heatmap(np.log1p(Connectivity_Matrix_sch1000),mask=Connectivity_Matrix_sch1000==0)"
   ]
  },
  {
   "cell_type": "code",
   "execution_count": null,
   "metadata": {},
   "outputs": [],
   "source": []
  },
  {
   "cell_type": "code",
   "execution_count": null,
   "metadata": {},
   "outputs": [],
   "source": []
  },
  {
   "cell_type": "code",
   "execution_count": null,
   "metadata": {},
   "outputs": [],
   "source": []
  },
  {
   "cell_type": "code",
   "execution_count": 56,
   "metadata": {},
   "outputs": [],
   "source": [
    "Connectivity_Matrix_gii = Connectivity_Matrix_gii[1:,1:]\n",
    "\n",
    "Connectivity_Matrix_sch1000 = Connectivity_Matrix_sch1000[1:,1:]\n"
   ]
  },
  {
   "cell_type": "code",
   "execution_count": 109,
   "metadata": {},
   "outputs": [
    {
     "data": {
      "text/plain": [
       "<matplotlib.axes._subplots.AxesSubplot at 0x7f1ee4f8f390>"
      ]
     },
     "execution_count": 109,
     "metadata": {},
     "output_type": "execute_result"
    },
    {
     "data": {
      "image/png": "[encoded data removed]",
      "text/plain": [
       "<Figure size 432x288 with 2 Axes>"
      ]
     },
     "metadata": {
      "needs_background": "light"
     },
     "output_type": "display_data"
    }
   ],
   "source": [
    "sns.heatmap(np.log1p(Connectivity_Matrix_sch1000))"
   ]
  },
  {
   "cell_type": "code",
   "execution_count": 58,
   "metadata": {},
   "outputs": [],
   "source": [
    "lh_sch1000_parc_v2 = sch1000_parc[0:32492]"
   ]
  },
  {
   "cell_type": "code",
   "execution_count": 59,
   "metadata": {},
   "outputs": [
    {
     "name": "stdout",
     "output_type": "stream",
     "text": [
      "CPU times: user 909 ms, sys: 74.9 ms, total: 984 ms\n",
      "Wall time: 987 ms\n"
     ]
    },
    {
     "data": {
      "text/plain": [
       "Text(0.5, 1.0, 'Str Conn')"
      ]
     },
     "execution_count": 59,
     "metadata": {},
     "output_type": "execute_result"
    },
    {
     "data": {
      "image/png": "[encoded data removed]",
      "text/plain": [
       "<Figure size 338.4x288 with 2 Axes>"
      ]
     },
     "metadata": {
      "needs_background": "light"
     },
     "output_type": "display_data"
    }
   ],
   "source": [
    "%%time\n",
    "sc_col = Connectivity_Matrix_sch1000[:,:].sum(axis=1)\n",
    "lh_sc_col_on_surf = np.zeros_like(mt_vtx[:,0]) # this 32k \n",
    "for p_it in range(0,400):\n",
    "    these_vtcs = lh_sch1000_parc_v2==p_it # but this is 29k\n",
    "    lh_sc_col_on_surf[these_vtcs] = sc_col[p_it]\n",
    "disp = plot_surf_stat_map([mt_vtx,mt_tri], lh_sc_col_on_surf,cmap='RdBu_r',hemi='left',view='lateral',vmax=50, threshold = 1)\n",
    "plt.title('Str Conn', loc = 'center')"
   ]
  },
  {
   "cell_type": "code",
   "execution_count": 60,
   "metadata": {},
   "outputs": [
    {
     "name": "stdout",
     "output_type": "stream",
     "text": [
      "CPU times: user 857 ms, sys: 86.9 ms, total: 944 ms\n",
      "Wall time: 941 ms\n"
     ]
    },
    {
     "data": {
      "text/plain": [
       "Text(0.5, 1.0, 'Str Conn')"
      ]
     },
     "execution_count": 60,
     "metadata": {},
     "output_type": "execute_result"
    },
    {
     "data": {
      "image/png": "[encoded data removed]",
      "text/plain": [
       "<Figure size 338.4x288 with 2 Axes>"
      ]
     },
     "metadata": {
      "needs_background": "light"
     },
     "output_type": "display_data"
    }
   ],
   "source": [
    "%%time\n",
    "sc_col = Connectivity_Matrix_sch1000[:,:].sum(axis=1)\n",
    "lh_sc_col_on_surf = np.zeros_like(mt_vtx[:,0]) # this 32k \n",
    "for p_it in range(0,400):\n",
    "    these_vtcs = lh_sch1000_parc_v2==p_it # but this is 29k\n",
    "    lh_sc_col_on_surf[these_vtcs] = sc_col[p_it]\n",
    "disp = plot_surf_stat_map([mt_vtx,mt_tri], lh_sc_col_on_surf,cmap='RdBu_r',hemi='left',view='medial',vmax=100, threshold = 1)\n",
    "plt.title('Str Conn', loc = 'center')"
   ]
  },
  {
   "cell_type": "markdown",
   "metadata": {},
   "source": [
    "## Graveyard"
   ]
  },
  {
   "cell_type": "code",
   "execution_count": 31,
   "metadata": {},
   "outputs": [],
   "source": [
    "import numpy as np\n",
    "from scipy.ndimage.morphology import binary_dilation\n",
    "\n",
    "from dipy.data import read_stanford_labels, read_stanford_t1\n",
    "from dipy.direction import peaks\n",
    "from dipy.reconst import shm\n",
    "from dipy.tracking import utils\n",
    "from dipy.tracking.local_tracking import LocalTracking\n",
    "from dipy.tracking.stopping_criterion import BinaryStoppingCriterion\n",
    "from dipy.tracking.streamline import Streamlines\n",
    "\n",
    "hardi_img, gtab, labels_img = read_stanford_labels()\n",
    "data = hardi_img.get_data()\n",
    "labels = labels_img.get_data()"
   ]
  },
  {
   "cell_type": "code",
   "execution_count": 32,
   "metadata": {},
   "outputs": [
    {
     "data": {
      "text/plain": [
       "array([ 0,  1,  2,  3,  4,  5,  6,  7,  8,  9, 10, 11, 12, 13, 14, 15, 16,\n",
       "       17, 18, 19, 20, 21, 22, 23, 24, 25, 26, 27, 28, 29, 30, 31, 32, 33,\n",
       "       34, 35, 36, 37, 38, 39, 41, 42, 43, 44, 45, 46, 47, 48, 49, 50, 51,\n",
       "       52, 53, 54, 55, 56, 57, 58, 59, 60, 61, 62, 63, 64, 65, 66, 67, 68,\n",
       "       69, 70, 71, 72, 73, 74, 75, 76, 77, 78, 79, 80, 81, 82, 84, 85, 86,\n",
       "       87, 88], dtype=uint8)"
      ]
     },
     "execution_count": 32,
     "metadata": {},
     "output_type": "execute_result"
    }
   ],
   "source": [
    "np.unique(labels)"
   ]
  },
  {
   "cell_type": "code",
   "execution_count": 33,
   "metadata": {},
   "outputs": [
    {
     "data": {
      "text/plain": [
       "(81, 106, 76)"
      ]
     },
     "execution_count": 33,
     "metadata": {},
     "output_type": "execute_result"
    }
   ],
   "source": [
    "labels.shape"
   ]
  },
  {
   "cell_type": "code",
   "execution_count": 38,
   "metadata": {},
   "outputs": [
    {
     "data": {
      "text/plain": [
       "array([ 0,  1,  2,  3,  4,  5,  6,  7,  8,  9, 10, 11, 12, 13, 14, 15, 16,\n",
       "       17, 18, 19, 20, 21, 22, 23, 24, 25, 26, 27, 28, 29, 30, 31, 32, 33,\n",
       "       34, 35, 36, 37, 38, 39, 41, 42, 43, 44, 45, 46, 47, 48, 49, 50, 51,\n",
       "       52, 53, 54, 55, 56, 57, 58, 59, 60, 61, 62, 63, 64, 65, 66, 67, 68,\n",
       "       69, 70, 71, 72, 73, 74, 75, 76, 77, 78, 79, 80, 81, 82, 84, 85, 86,\n",
       "       87, 88], dtype=uint8)"
      ]
     },
     "execution_count": 38,
     "metadata": {},
     "output_type": "execute_result"
    }
   ],
   "source": [
    "np.unique(labels)"
   ]
  },
  {
   "cell_type": "code",
   "execution_count": null,
   "metadata": {},
   "outputs": [],
   "source": []
  },
  {
   "cell_type": "code",
   "execution_count": null,
   "metadata": {},
   "outputs": [],
   "source": []
  },
  {
   "cell_type": "code",
   "execution_count": null,
   "metadata": {},
   "outputs": [],
   "source": []
  },
  {
   "cell_type": "code",
   "execution_count": null,
   "metadata": {},
   "outputs": [],
   "source": []
  },
  {
   "cell_type": "code",
   "execution_count": null,
   "metadata": {},
   "outputs": [],
   "source": []
  },
  {
   "cell_type": "code",
   "execution_count": null,
   "metadata": {},
   "outputs": [],
   "source": []
  },
  {
   "cell_type": "code",
   "execution_count": null,
   "metadata": {},
   "outputs": [],
   "source": []
  }
 ],
 "metadata": {
  "kernelspec": {
   "display_name": "simnibs_env",
   "language": "python",
   "name": "simnibs_env"
  },
  "language_info": {
   "codemirror_mode": {
    "name": "ipython",
    "version": 3
   },
   "file_extension": ".py",
   "mimetype": "text/x-python",
   "name": "python",
   "nbconvert_exporter": "python",
   "pygments_lexer": "ipython3",
   "version": "3.7.3"
  }
 },
 "nbformat": 4,
 "nbformat_minor": 2
}
